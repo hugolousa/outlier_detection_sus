{
 "cells": [
  {
   "cell_type": "markdown",
   "metadata": {},
   "source": [
    "Projeto TCC\n",
    "Hugo Antonio de Azevedo Lousa"
   ]
  },
  {
   "cell_type": "markdown",
   "metadata": {},
   "source": [
    "### Declaração das funções necessárias para a leitura dos dados."
   ]
  },
  {
   "cell_type": "code",
   "execution_count": null,
   "metadata": {},
   "outputs": [],
   "source": [
    "# carga bibliotecas\n",
    "import os\n",
    "import pandas as pd\n",
    "import numpy as np\n",
    "from simpledbf import Dbf5\n",
    "import pyarrow as pa\n",
    "import pyarrow.parquet as pq\n",
    "import glob\n",
    "from joblib import dump\n",
    "from shutil import move\n",
    "import scipy.stats as stats\n",
    "import math\n",
    " \n",
    "from IPython.core.interactiveshell import InteractiveShell\n",
    "#apresenta todos os prints de uma célula. pois o default é apresentar apenas o último.\n",
    "InteractiveShell.ast_node_interactivity = \"all\"\n",
    "#para retornar ao modo default (mostra apenas o último print), descomentar linha abaixo\n",
    "#InteractiveShell.ast_node_interactivity = \"last_expr\""
   ]
  },
  {
   "cell_type": "code",
   "execution_count": null,
   "metadata": {},
   "outputs": [],
   "source": [
    "#valores das variáveis base\n",
    "base_data_path = 'Dados'\n",
    "parquet_folder_name = 'Parquet'\n",
    "leitos_folder_name = 'Leitos'\n",
    "estabelecimentos_folder_name = 'Estabelecimentos'\n",
    "producao_folder_name = 'Producao'\n",
    "territorial_folder_name = 'Territorial'\n",
    "CID_folder_name = 'CID'\n",
    "lidos_folder_name = 'Lidos'\n",
    "joblibs_folder_name = 'Joblib'\n",
    "joblib_file_name = 'dados_preparados.joblib'\n",
    "joblib_n_aih = 'dados_n_aih.joblib'\n",
    "codigo_paraiba = '25'"
   ]
  },
  {
   "cell_type": "code",
   "execution_count": null,
   "metadata": {},
   "outputs": [],
   "source": [
    "def carrega_arquivos_dataframe(local = base_data_path, tipo = 'dbf', encoding = 'iso8859-1', separador = ';', nome = None):\n",
    "\n",
    "    df = None\n",
    "    if nome == None:\n",
    "        arquivos = glob.glob(os.path.join(local, '*.{}'.format(tipo)))\n",
    "        frames = []\n",
    "        print('Iniciando importação.')\n",
    "        print(f'Quantidade de arquivos dbf encontrados = {len(arquivos)}')\n",
    "        for arquivo in arquivos:\n",
    "            print(f'Importando arquivo: {arquivo}.')    \n",
    "            frames.append(Dbf5(arquivo, codec= encoding).to_dataframe())\n",
    "            \n",
    "        print('Concatenando arquivos, aguarde...')\n",
    "        df = pd.concat(frames)\n",
    "        print('Importação concluída!')\n",
    "        \n",
    "    elif tipo == 'csv':\n",
    "        \n",
    "        df = pd.read_csv(os.path.join(local, '{}.{}'.format(nome, tipo)), dtype= str, encoding=encoding, sep=separador)\n",
    "        \n",
    "    elif tipo == 'dbf':\n",
    "        \n",
    "        df = Dbf5(os.path.join(local, '{}.{}'.format(nome, tipo)), codec= encoding).to_dataframe()\n",
    "\n",
    "    return df"
   ]
  },
  {
   "cell_type": "code",
   "execution_count": null,
   "metadata": {},
   "outputs": [],
   "source": [
    "#Função que tem como objetivo ler os arquivos .dbf do SIHSUS, contendo a produção hospitalar\n",
    "def obtem_producao_hospitalar():\n",
    "    sih_producao_bruta = carrega_arquivos_dataframe(local=os.path.join(base_data_path, producao_folder_name), tipo = 'dbf')\n",
    "    return sih_producao_bruta"
   ]
  },
  {
   "cell_type": "code",
   "execution_count": null,
   "metadata": {},
   "outputs": [],
   "source": [
    "# leitura dados dos municipios, retornando CO_MUNICIP', 'IN_POBREZA', 'REGIAO_SAUDE', 'CLASSE_POP', \n",
    "# 'QTD_MUNICIPIOS_REGIAO_SAUDE', 'POPULACAO_REGIAO_SAUDE\n",
    "def ler_arquivos_territoriais():\n",
    "#Dicionário de dados ftp://arpoador.datasus.gov.br/territorio/doc/bases_territoriais.pdf\n",
    "#fonte do arquivo ftp://arpoador.datasus.gov.br/territorio/tabelas/\n",
    "    #lê o arquivo tb_municip no df municipios\n",
    "    municipios = carrega_arquivos_dataframe(local=os.path.join(base_data_path, territorial_folder_name), nome = 'tb_municip')\n",
    "    #lê o arquivo tb_regsaud no df regiao_saude\n",
    "    regiao_saude = carrega_arquivos_dataframe(local=os.path.join(base_data_path, territorial_folder_name), nome = 'tb_regsaud', encoding= 'utf-8')\n",
    "    #lê o arquivo de relacionamento rl_municip_regsaud no df rel_regiao_saude\n",
    "    rel_regiao_saude = carrega_arquivos_dataframe(local=os.path.join(base_data_path, territorial_folder_name), nome = 'rl_municip_regsaud', encoding= 'utf-8')\n",
    "    #lê o arquivo ibge_populacao no df mun_populacao\n",
    "    mun_populacao = carrega_arquivos_dataframe(local=os.path.join(base_data_path, territorial_folder_name), nome= 'ibge_populacao', tipo = 'csv', encoding = 'utf-8')\n",
    "    \n",
    "    #cria o df qtd_municipios_regiao, contendo os valores distintos da coluna CO_REGSAUD e \n",
    "    #número de ocorrência para cada um desses valores, reiniciando-se o índice.\n",
    "    #isso representa a quantidade de municípios para cada região de saúde\n",
    "    qtd_municipios_regiao = pd.DataFrame(rel_regiao_saude['CO_REGSAUD'].value_counts()).reset_index()\n",
    "    #nomeia as colunas do df \n",
    "    qtd_municipios_regiao.columns = ['CO_REGSAUD', 'QTD_MUNICIPIOS']\n",
    "    \n",
    "    #Realiza o merge (semelhante ao INNER JOIN do SQL) do df qtd_municipios_regiao ao df regiao_saude\n",
    "    regiao_saude = regiao_saude.merge(qtd_municipios_regiao, on='CO_REGSAUD')\n",
    "\n",
    "    #filtra apenas regiões de saúde ativas\n",
    "    regiao_saude = regiao_saude[regiao_saude['CO_STATUS']=='ATIVO']\n",
    "\n",
    "    #Trecho a seguir contabiliza a populacao de cada região de saúde\n",
    "    \n",
    "    #copia-se o conteúdo do df rel_regiao_saude (colunas \"CO_MUNICIP\",\"CO_REGSAUD\") para o df populacao_regiao_saude\n",
    "    #a ser preenchido a seguir com a informação de população\n",
    "    populacao_regiao_saude = rel_regiao_saude.copy()\n",
    "    #seleciona-se apenas as colunas Cod Municipio' e 'POP EST'\n",
    "    municipio_populacao = mun_populacao.loc[:, ('Cod Municipio', 'POP EST')]\n",
    "    #substituindo a série que contém a coluna Cod Municipio, originalmente com código do município com 7 dígitos,\n",
    "    #por pela mesma série, só que com o código do município apenas com os 6 primeiros dígitos (o stop do slice é exclusivo)\n",
    "    municipio_populacao.loc[:,('Cod Municipio')] = mun_populacao.loc[:,'Cod Municipio'].str.slice(start=0, stop=6, step=None).values\n",
    "    #junção (INNER JOIN do SQL) entre o df populacao_regiao_saude (chave CO_MUNICIP) e o df municipio_populacao (chave Cod Municipio)\n",
    "    populacao_regiao_saude = populacao_regiao_saude.merge(municipio_populacao, how='inner', left_on='CO_MUNICIP', right_on='Cod Municipio')\n",
    "    #dropa a coluna Cod Municipio após a junção, com inplace=True para garantir que é aquele df que terá a coluna apagada \n",
    "    #e não uma eventual cópia\n",
    "    populacao_regiao_saude.drop(columns=['Cod Municipio'], inplace=True)\n",
    "    #coluna POP EST do df populacao_regiao_saude recebe a mesma coluna, agora com o tipo int, pois o valor é numérico\n",
    "    populacao_regiao_saude['POP EST'] = populacao_regiao_saude['POP EST'].astype(str).astype(int)\n",
    "    #seleciona-se no df populacao_regiao_saude as colunas 'CO_REGSAUD' e 'POP EST', agrupa-se por CO_REGSAUD e somando-se os\n",
    "    # valores de POP EST, chegando-se à população total de cada região de saúde.\n",
    "    populacao_regiao_saude = populacao_regiao_saude.loc[:,('CO_REGSAUD', 'POP EST')].groupby(['CO_REGSAUD'])['POP EST'].sum()\n",
    "    #recria o dataframe populacao_regiao_saude, resetando o índice CO_REGSAUD\n",
    "    populacao_regiao_saude = pd.DataFrame(populacao_regiao_saude).reset_index(level=['CO_REGSAUD'])\n",
    "\n",
    "    #Começando a construir o df df_municipios, que será o retorno dessa função\n",
    "    #Mantendo apenas os municípios com NU_ORDEM=1 (1: municípios ativos (CO_STATUS = ATIVO))\n",
    "    df_municipios = municipios[municipios.NU_ORDEM == '1'].reset_index(drop=True)\n",
    "\n",
    "    #Seleciona cod municipio e classe da populacao\n",
    "    # Classe população é código que vai de 1 a 7, conforme faixas de população no município, definidas pelo IBGE\n",
    "    # Ex.: São Paulo => 7 - Maior que 500000, Abadiânia => 3 - 10001 até 20000\n",
    "    classe_populacao = mun_populacao[['Cod Municipio', 'CLASSE POP']]\n",
    "    classe_populacao.columns = ['CO_MUNICIP', 'CLASSE_POP']\n",
    "    classe_populacao = classe_populacao.reset_index(drop=True)\n",
    "\n",
    "    #junção entre os municipios e o codigo da regiao de saúde de cada um deles, usado a chave CO_MUNICIP, para em seguida\n",
    "    #trazer mais informações da região de saúde\n",
    "    df_municipios = pd.merge(df_municipios, rel_regiao_saude, how='left', on='CO_MUNICIP')\n",
    "\n",
    "    #seleciona-se apenas as colunas 'CO_REGSAUD', 'DS_ABREV', 'QTD_MUNICIPIOS' do df regiao_saude (verificar vírgula sobrando)\n",
    "    regiao_saude = regiao_saude[['CO_REGSAUD', 'DS_ABREV', 'QTD_MUNICIPIOS', ]]\n",
    "    #logo após as renomeia\n",
    "    regiao_saude.columns = ['CO_REGSAUD', 'REGIAO_SAUDE', 'QTD_MUNICIPIOS_REGIAO_SAUDE']\n",
    "    #junção entre a tabela de região de saúde, trazendo descricao abreviada da regiao de saude \n",
    "    #e a quantidade de municipios na regiao de saude\n",
    "    df_municipios = pd.merge(df_municipios, regiao_saude, how='left', on='CO_REGSAUD')\n",
    "\n",
    "    #Merge do df df_municipios com o df populacao_regiao_saude, agregando o dado POPULACAO_REGIAO_SAUDE\n",
    "    populacao_regiao_saude.columns = ['CO_REGSAUD', 'POPULACAO_REGIAO_SAUDE']\n",
    "    df_municipios = pd.merge(df_municipios, populacao_regiao_saude, how='left', on='CO_REGSAUD')\n",
    "\n",
    "    #Merge do df df_municipios com o df de classe de população, trazendo o valor da classe da população do município\n",
    "    df_municipios = pd.merge(df_municipios, classe_populacao, how='left', left_on='CO_MUNICDV', right_on='CO_MUNICIP', copy=False)\n",
    "\n",
    "    #Altera o nome da coluna código do município e dropa coluna desnecessária\n",
    "    df_municipios.drop(columns='CO_MUNICIP_y', inplace=True)\n",
    "    df_municipios.rename(columns={\"CO_MUNICIP_x\": \"CO_MUNICIP\"}, inplace=True)\n",
    "\n",
    "    #filtra só os municípios da Paraíba, objeto do estudo\n",
    "    df_municipios = df_municipios[df_municipios['CO_MUNICIP'].str.startswith(codigo_paraiba)]\n",
    "\n",
    "    return df_municipios.loc[:,['CO_MUNICIP', 'IN_POBREZA', 'REGIAO_SAUDE', 'CLASSE_POP', 'QTD_MUNICIPIOS_REGIAO_SAUDE', 'POPULACAO_REGIAO_SAUDE']]"
   ]
  },
  {
   "cell_type": "code",
   "execution_count": null,
   "metadata": {},
   "outputs": [],
   "source": [
    "def obtem_cnes():\n",
    "    \n",
    "    #Última atualização dos arquivos do CNES - 2019-12\n",
    "    #Origem dos dados ftp://arpoador.datasus.gov.br/dissemin/publicos/CNES/200508_/Auxiliar/\n",
    "    #http://cnes.datasus.gov.br/pages/downloads/arquivosBaseDados.jsp\n",
    "    #carrega no df cnes_principal as informaçções do CNES contidas no arquivo tbEstabelecimento201912\n",
    "    cnes_principal = carrega_arquivos_dataframe(local=os.path.join(base_data_path, estabelecimentos_folder_name), \n",
    "                                                nome='tbEstabelecimento201912', tipo = 'csv', encoding = 'utf-8') \n",
    "    #Origem dos dados ftp://arpoador.datasus.gov.br/dissemin/publicos/CNES/200508_/Dados/ST/\n",
    "    #carrega no df cnes_estabelecimentos as informações contidas no arquivo STPB1912, que são os estabelecimentos que\n",
    "    #compõem a rede de saúde do Estado da Paraíba em 2019 mês 12\n",
    "    cnes_estabelecimentos = carrega_arquivos_dataframe(nome='STPB1912', local=os.path.join(base_data_path, estabelecimentos_folder_name)) \n",
    "    #Origem dos dados ftp://arpoador.datasus.gov.br/dissemin/publicos/CNES/200508_/Dados/LT/\n",
    "    # carrega no df cnes_leitos os dados dos leitos habilitados no CNES da rede de saúde da Paraíba em 2019, mês 12\n",
    "    cnes_leitos = carrega_arquivos_dataframe(nome='LTPB1912', local=os.path.join(base_data_path, leitos_folder_name))\n",
    "    #Dicionário dos dados disponível em ftp://arpoador.datasus.gov.br/dissemin/publicos/CNES/200508_/doc/IT_CNES_1706.pdf\n",
    "\n",
    "    #No arquivo tbEstabelecimento201912, há campos essenciais para a análise, por isso deve ser\n",
    "    # considerada. Todavia, a tabela 'STPB1912.dbf' possuiu os estabelecimentos apenas da Paraíba, \n",
    "    # sendo assim, ao fazer o merge entre os dois dataframes com how='inner', realiza-se o filtro para o estado.\n",
    "    cnes = pd.merge(cnes_principal, cnes_estabelecimentos, left_on='CO_CNES', right_on = 'CNES', how='inner')\n",
    "\n",
    "    # O que importa é apenas determinar se o estabelecimento realiza atividades de ensino/pesquisa\n",
    "    # O Domínio é \"01\";\"UNIDADE UNIVERSITARIA\" \"02\";\"UNIDADE ESCOLA SUPERIOR ISOLADA\" \"03\";\"UNIDADE AUXILIAR DE ENSINO\"\n",
    "    # \"04\";\"UNIDADE SEM ATIVIDADE DE ENSINO\" \"05\";\"HOSPITAL DE ENSINO\"\n",
    "    # fonte: tbAtividadeEnsino201912\n",
    "    cnes['ATIVIDADE_ENSINO'] = cnes['ATIVIDAD'].map(lambda value: '0' if value == '04' else '1')\n",
    "    # Dicionário para mapeamento do código do Tipo do Leito. A descrição\n",
    "    #   foi extraída do site do CNES: http://cnes.datasus.gov.br/pages/estabelecimentos/consulta.jsp\n",
    "    # tbAtributo, para todos os valores onde \"CO_INDICADOR\"=\"006\"\n",
    "    tp_leito = {'1':'LEITOS_CIRURGICOS',  '2':'LEITOS_CLINICOS',    '3':'LEITOS_COMPLEMENTARES', \n",
    "                '4':'LEITOS_OBSTETRICOS', '5':'LEITOS_PEDIATRICOS', '6':'LEITOS_OUTROS', \n",
    "                '7':'LEITOS_HOSPITAL_DIA'}\n",
    "    cnes_leitos['TP_LEITO_DESCRICAO'] = cnes_leitos['TP_LEITO'].map(tp_leito)\n",
    "\n",
    "    # Totaliza a quantidade de leitos existentes na entidade para se determinar\n",
    "    #   o porte do estabelecimento\n",
    "    # O comando realiza o somatório dos valores contidos na coluna QT_EXIST, para cada CNES, e as descrições dos leitos \n",
    "    # contidos em cada linha da coluna TP_LEITO_DESCRICAO viram colunas.\n",
    "    cnes_leitos_total = pd.pivot_table(cnes_leitos, values='QT_EXIST', index='CNES', \n",
    "                                       columns='TP_LEITO_DESCRICAO', aggfunc=np.sum, dropna=False).fillna(0)\n",
    "\n",
    "    # Estabelecimento do seguinte critério:\n",
    "    #    Pequeno Porte - até 50 leitos\n",
    "    #    Médio Porte = de 51 a 150,\n",
    "    #    Grande Porte = de 151 até 500 leitos\n",
    "    #    Porte Especial = Acima de 500 leitos\n",
    "    # fonte: https://www.conass.org.br/consensus/armando-de-negri-o-papel-hospital-na-rede-de-atencao-saude/#:~:text=1)%20Porte%20do%20hospital%3A,de%20151%20a%20500%20leitos.\n",
    "    def porte_hospitalar(qtd_leitos):\n",
    "        if qtd_leitos < 51:\n",
    "            porte = 'PEQUENO'\n",
    "        elif qtd_leitos < 151:\n",
    "            porte = 'MEDIO'\n",
    "        elif qtd_leitos < 500:\n",
    "            porte = 'GRANDE'\n",
    "        else:\n",
    "            porte = 'ESPECIAL'\n",
    "\n",
    "        return porte\n",
    "# Cria a coluna PORTE_HOSPITALAR no df cnes_leitos_total, recebendo o rótulo do PORTE HOSPITALAR, atribuído em função\n",
    "# do número total de leitos (calculados pela função sum(axis=1)) e pela aplicacao da funcao porte_hospitalar.\n",
    "    cnes_leitos_total['PORTE_HOSPITALAR'] = cnes_leitos_total.sum(axis=1).map(porte_hospitalar)\n",
    "\n",
    "    #Serão utilizados apenas os seguintes atributos\n",
    "    # Realiza a seleção das colunas 'CNES', 'CO_MUNICIPIO_GESTOR', 'TP_UNIDADE', 'CO_NATUREZA_JUR', \n",
    "    # 'NIV_DEP', 'TP_GESTAO', 'VINC_SUS', 'ATIVIDADE_ENSINO'\n",
    "    cnes_selecao = cnes[['CNES', 'CO_MUNICIPIO_GESTOR', 'TP_UNIDADE', \n",
    "                         'CO_NATUREZA_JUR', 'NIV_DEP', 'TP_GESTAO', 'VINC_SUS', \n",
    "                         'ATIVIDADE_ENSINO']].copy()\n",
    "\n",
    "    # Junção (semelhante ao LEFT INNER JOIN do SQL) dos df cnes_selecao e cnes_leitos_total.\n",
    "    cnes_selecao = pd.merge(cnes_selecao, cnes_leitos_total, how = 'left', left_on = 'CNES', right_on = 'CNES' )\n",
    "\n",
    "    # Após a junção, aquelas unidades de saúde que constam no df cnes_selecao e não constam no df cnes_leitos_total\n",
    "    # terão todas as colunas que se referem a qtd de leitos com valores NaN. Portanto, para essas linhas,\n",
    "    # preenche-as com valor zero.\n",
    "    cnes_selecao[cnes_selecao.columns[8:-1]] = cnes_selecao[cnes_selecao.columns[8:-1]].fillna(0)\n",
    "\n",
    "    # Supõe-se que as entidades que não tiverem leitos informados serão categorizadas como \n",
    "    # pequeno porte\n",
    "    cnes_selecao['PORTE_HOSPITALAR'] = cnes_selecao['PORTE_HOSPITALAR'].fillna('PEQUENO')\n",
    "\n",
    "    return cnes_selecao\n"
   ]
  },
  {
   "cell_type": "code",
   "execution_count": null,
   "metadata": {},
   "outputs": [],
   "source": [
    "def obtem_cid10():\n",
    "    cid = carrega_arquivos_dataframe(local=os.path.join(base_data_path, CID_folder_name), \n",
    "                                         nome = 'CID-10-CAPITULOS', tipo = 'csv', encoding='UTF-8')\n",
    "\n",
    "        #carrega arquivo com os capítulos da CID10\n",
    "        #cid = carrega_arquivos_dataframe(local=os.path.join(base_data_path, CID_folder_name), \n",
    "        #                                 nome = 'CID-10-CAPITULOS', tipo = 'csv', encoding='UTF-8')\n",
    "\n",
    "        #Cria a sequencia de valores para realizar o merge com a tabela do SIHSUS\n",
    "    categoria = {}\n",
    "    #pega cada linha e seu índice respectivo e itera no for\n",
    "    for index,row in cid.iterrows():\n",
    "        #atribui a cat_inic o primeiro caracter (a letra da CID) armazenado na coluna CATINIC\n",
    "        cat_inic = row['CATINIC'][0]\n",
    "        #atribui a num_cat_inic o segundo caracter em diante (a parte numérica da CID) armazenado na coluna CATINIC\n",
    "        num_cat_inic = int(row['CATINIC'][1:])\n",
    "        #atribui a cat_fim o primeiro caracter (a letra da CID) armazenado na coluna CATFIM\n",
    "        cat_fim = row['CATFIM'][0]\n",
    "        #atribui a num_cat_fim o segundo caracter em diante (a parte numérica da CID) armazenado na coluna CATFIM\n",
    "        num_cat_fim = int(row['CATFIM'][1:])\n",
    "        #se a primeira letra da categoria inicial for igual à primeira letra da categoria fim \n",
    "        if cat_inic == cat_fim:\n",
    "            categoria.update({''.join([cat_inic, str(cat).rjust(2, '0')]): row['DESCRABREV'] \n",
    "                                   for cat in range(num_cat_inic, num_cat_fim + 1)})\n",
    "        #se a primeira letra da categoria inicial não for igual à primeira letra da categoria fim\n",
    "        else:\n",
    "            categoria.update({''.join([cat_inic, str(cat).rjust(2, '0')]): row['DESCRABREV'] \n",
    "                                   for cat in range(num_cat_inic, 100)})\n",
    "            categoria.update({''.join([cat_fim, str(cat).rjust(2, '0')]): row['DESCRABREV'] \n",
    "                                   for cat in range(0, num_cat_fim+1)})\n",
    "\n",
    "    mapeamento_cid = pd.DataFrame(list(categoria.items()), columns=['CATEGORIA_CID10', 'DESCRICAO_CID10'])\n",
    "    \n",
    "    return mapeamento_cid"
   ]
  },
  {
   "cell_type": "code",
   "execution_count": null,
   "metadata": {},
   "outputs": [],
   "source": [
    "def relaciona_datasets(sih, cnes, municipio, cid):\n",
    "    #Somente irá considerar as entidades ativas na data da extração\n",
    "    df = pd.merge(sih, cnes, on = 'CNES')\n",
    "\n",
    "    df = pd.merge(df, municipio, left_on = 'CO_MUNICIPIO_GESTOR', right_on = 'CO_MUNICIP')\n",
    "    \n",
    "    df['CAT_CID_DIAG_PRINC'] = df.DIAG_PRINC.str[0:3]\n",
    "    df = pd.merge(df, cid, left_on = 'CAT_CID_DIAG_PRINC', right_on = 'CATEGORIA_CID10')\n",
    "    \n",
    "    return df"
   ]
  },
  {
   "cell_type": "code",
   "execution_count": null,
   "metadata": {},
   "outputs": [],
   "source": [
    "#Transforma a idade do paciente para um valor em anos, realizando transformações de acordo com o campo COD_IDADE\n",
    "def padroniza_idade(dataset):\n",
    "    \n",
    "    #O campo COD_IDADE armazena a unidade de medida da idade e tem o seguinte domínio:\n",
    "    # 0: ignorada; 2: dias; 3: meses; 4: anos; 5: mais de 100 anos\n",
    "    # Para valores de ignorada, dias e meses, colocou-se idade 0.\n",
    "    # Para valores em anos, utilizou-se a própria idade apresentada\n",
    "    # e para valores 5 (mais de 100 anos), atribui-se idade=100.\n",
    "    def altera_idade(row):\n",
    "        if row['COD_IDADE'] in ['0', '2', '3']:\n",
    "            idade = 0\n",
    "        elif row['COD_IDADE'] == '4':    \n",
    "            idade = row['IDADE']\n",
    "        else:    \n",
    "            idade = 100\n",
    "            \n",
    "        return idade\n",
    "        \n",
    "    campo_idade_padronizado = pd.to_numeric(dataset[['COD_IDADE', 'IDADE']].apply(altera_idade, axis=1),\n",
    "                                    downcast = 'integer')\n",
    "    return campo_idade_padronizado"
   ]
  },
  {
   "cell_type": "code",
   "execution_count": null,
   "metadata": {},
   "outputs": [],
   "source": [
    "#Cria o campo indicativo de UTI\n",
    "def cria_indicativo_uti(dataset):\n",
    "    # Se o campo UTI_MES_TO que armazena o total de diárias de UTI e o campo VAL_UTI que armazena o valor de UTI \n",
    "    # forem ambos maiores que zero, retorna 1, caso contrário retorna 0.\n",
    "    campo_UTI = ((dataset['UTI_MES_TO'] > 0) & (dataset['VAL_UTI'] > 0))\\\n",
    "                    .map(lambda valor: 1 if valor==True else 0)\n",
    "    return campo_UTI"
   ]
  },
  {
   "cell_type": "code",
   "execution_count": null,
   "metadata": {},
   "outputs": [],
   "source": [
    "# função que calcula a razão entre o valor total da AIH e valor mediano, por procedimento e por indicativo de UTI\n",
    "def calcula_razao(dataset):\n",
    "    # Calcula o valor mediano do VAL_TOT das AIH, por PROC_REA e por UTI.\n",
    "    valor_mediano_por_procedimento = dataset.groupby(['PROC_REA'], as_index = False)['VAL_TOT'].median()\n",
    "    valor_mediano_por_procedimento.columns = ['PROC_REA', 'MEDIANA']\n",
    "    #Junção entre o dataframe dataset e dataframe \n",
    "    dataset = dataset.merge(right=valor_mediano_por_procedimento, on=['PROC_REA'], how='inner')\n",
    "    dataset['RAZAO'] = dataset['VAL_TOT']/dataset['MEDIANA']\n",
    "    return dataset"
   ]
  },
  {
   "cell_type": "code",
   "execution_count": null,
   "metadata": {},
   "outputs": [],
   "source": [
    "def calcula_zscore(dataset):\n",
    "    def zscore(x):\n",
    "        #calcula o desvio padrão\n",
    "        sd = x.std()\n",
    "        #evitando divisão por zero, se sd==0, acrescento \n",
    "        if math.isclose(sd, 0, rel_tol=1e-6): sd = 0.0000001\n",
    "        #retorna (x-média)/(desvio-padrão)\n",
    "        return (x-x.mean())/sd\n",
    "    zscore_por_procedimento = dataset.groupby(['PROC_REA'], as_index = True)['VAL_TOT'].apply(zscore)\n",
    "    #imputando 0 nos std que deram nan (N=1 e ddof=0 por default no pandas)\n",
    "    zscore_por_procedimento.fillna(value=0, inplace=True)\n",
    "    zscore_por_procedimento.rename(\"ZSCORE\", inplace=True)\n",
    "    #Junção entre o dataframe dataset e dataframe \n",
    "    dataset = dataset.merge(right=zscore_por_procedimento, left_index=True, right_index=True, how='inner')\n",
    "    return dataset"
   ]
  },
  {
   "cell_type": "code",
   "execution_count": null,
   "metadata": {},
   "outputs": [],
   "source": [
    "def calcula_outlier_IQR(dataset):\n",
    "    def IQR(x):\n",
    "        #calcula quantil 25\n",
    "        Q1 = x.quantile(0.25)\n",
    "        #calcula quantil 75\n",
    "        Q3 = x.quantile(0.75)\n",
    "        IQR = Q3 - Q1\n",
    "        lista_outlier = []\n",
    "        for index, value in x.items(): \n",
    "            if(value>Q3+(IQR*1.5)): \n",
    "                lista_outlier.append(1)\n",
    "            else:\n",
    "                lista_outlier.append(0)\n",
    "        return pd.Series(lista_outlier, index = x.index) \n",
    "    # resultado do IQR outlier \n",
    "    IQR_por_procedimento = dataset.groupby(['PROC_REA'], as_index = True)['VAL_TOT'].apply(IQR)\n",
    "    IQR_por_procedimento.rename(\"OUTLIER_IQR\", inplace=True)\n",
    "    #Junção entre o dataframe dataset e dataframe \n",
    "    dataset = dataset.merge(right=IQR_por_procedimento, left_index=True, right_index=True, how='inner')\n",
    "    return dataset"
   ]
  },
  {
   "cell_type": "code",
   "execution_count": null,
   "metadata": {},
   "outputs": [],
   "source": [
    "# Função que retorna uma série contendo o quinto caracter da coluna N_AIH\n",
    "# Este caracter corresponde ao número de referência da AIH, em que\n",
    "# 1 é utilizado para AIH geral, 2 para específica da CNRAC e 5 para\n",
    "# procedimentos cirúrgicos eletivos de média complexidade\n",
    "# fonte: Uma_analise_da_base_de_dados_do_sistema_de_informacao_hospitalar.pdf\n",
    "def origem_autorizacao(dataset):\n",
    "    coluna_origem_autorizacao = dataset['N_AIH'].str[4]\n",
    "    return coluna_origem_autorizacao"
   ]
  },
  {
   "cell_type": "code",
   "execution_count": null,
   "metadata": {},
   "outputs": [],
   "source": [
    "# Função que compara o código do município de residência do paciente com o\n",
    "# código do município do gestor do estabelecimento.\n",
    "# Caso eles sejam iguais, retorna 1, caso contrário, retorna 0.\n",
    "# Retorna uma série com esses 0 ou 1.\n",
    "def cria_campo_residencia_local(dataset):\n",
    "    coluna_reside_mun =  (dataset['MUNIC_RES'] == dataset['CO_MUNICIPIO_GESTOR'])\\\n",
    "                                            .map(lambda v: 1 if v==True else 0)\n",
    "    \n",
    "    return coluna_reside_mun"
   ]
  },
  {
   "cell_type": "code",
   "execution_count": null,
   "metadata": {},
   "outputs": [],
   "source": [
    "# Função que retorna uma série contendo a transformação do campo ESPEC do SIH.\n",
    "# O campo ESPEC armazena a especialidade do leito utilizado na internação.\n",
    "# Domínio = 01-Cirurgia, 02-Obstetrícia, 03-Clínica médica, 04-Pacientes sob cuidados prolongados\n",
    "# 05-Psiquiatria, 06-Tisiologia, 07-Pediatria, 08-Reabilitação, 09-Psiquiatria em hospital-dia\n",
    "# Para os valores maiores ou igual a 10, não encontrei explicação.\n",
    "# Basicamente, para as especialidados cuja frequência relativa é maior\n",
    "def transforma_especialidade(dataset):    \n",
    "    campo_especialidade = pd.to_numeric(dataset['ESPEC'], downcast = 'integer')\n",
    "    \n",
    "    especialidades = pd.DataFrame(campo_especialidade.value_counts(normalize=True))\n",
    "    \n",
    "    especialidades = especialidades[(especialidades['ESPEC'] > 0.01) & (especialidades.index <= 9)]\n",
    "    \n",
    "    campo_especialidade = campo_especialidade.map(lambda v: v if v in especialidades.index else 10)\n",
    "    \n",
    "    return campo_especialidade"
   ]
  },
  {
   "cell_type": "code",
   "execution_count": null,
   "metadata": {},
   "outputs": [],
   "source": [
    "def get_natureza_juridica_simplificada(dataset):\n",
    "    return dataset['CO_NATUREZA_JUR'].str.slice(start=0, stop=1, step=None)"
   ]
  },
  {
   "cell_type": "markdown",
   "metadata": {},
   "source": [
    "### Execução das funções que realizarão a leitura dos dados."
   ]
  },
  {
   "cell_type": "code",
   "execution_count": null,
   "metadata": {},
   "outputs": [],
   "source": [
    "# A partir de agora, começa-se a chamar as funções criadas.\n",
    "#Carrega a produção hospitalar bruta\n",
    "dados_producao_hospitalar_bruta = obtem_producao_hospitalar()"
   ]
  },
  {
   "cell_type": "code",
   "execution_count": null,
   "metadata": {},
   "outputs": [],
   "source": [
    "# Carrega dados dos municípios\n",
    "dados_municipios = ler_arquivos_territoriais()"
   ]
  },
  {
   "cell_type": "code",
   "execution_count": null,
   "metadata": {},
   "outputs": [],
   "source": [
    "# Carrega dados do CNES\n",
    "dados_estabelecimentos_CNES = obtem_cnes()"
   ]
  },
  {
   "cell_type": "code",
   "execution_count": null,
   "metadata": {},
   "outputs": [],
   "source": [
    "# Carrega dados da CID\n",
    "dados_CID = obtem_cid10()"
   ]
  },
  {
   "cell_type": "code",
   "execution_count": null,
   "metadata": {},
   "outputs": [],
   "source": [
    "#Quantidade de linhas e colunas em cada dataset.\n",
    "print(f'SIH: Registros {dados_producao_hospitalar_bruta.shape[0]} - colunas {dados_producao_hospitalar_bruta.shape[1]}')\n",
    "print(f'Municípios: Registros {dados_municipios.shape[0]} - colunas {dados_municipios.shape[1]}')\n",
    "print(f'Estabelecimentos de Saúde: Registros {dados_estabelecimentos_CNES.shape[0]} - colunas {dados_estabelecimentos_CNES.shape[1]}')\n",
    "print(f'CID-10: Registros {dados_CID.shape[0]} - colunas {dados_CID.shape[1]}')"
   ]
  },
  {
   "cell_type": "code",
   "execution_count": null,
   "metadata": {},
   "outputs": [],
   "source": [
    "#Retorna a quantidade de linhas duplicadas no SIH\n",
    "print(f'Quantidade de linhas duplicadas no SIH = {dados_producao_hospitalar_bruta.duplicated().sum()}')"
   ]
  },
  {
   "cell_type": "markdown",
   "metadata": {},
   "source": [
    "### Realiza a junção e faz pequenas alterações em algumas colunas do dataset."
   ]
  },
  {
   "cell_type": "code",
   "execution_count": null,
   "metadata": {},
   "outputs": [],
   "source": [
    "# Salva em dataset_global os datasets relativos à produção hospitalar, dos estabelecimentos de saúde, dos municípios e da CID\n",
    "dataset_global = relaciona_datasets(dados_producao_hospitalar_bruta, dados_estabelecimentos_CNES, dados_municipios, dados_CID)"
   ]
  },
  {
   "cell_type": "code",
   "execution_count": null,
   "metadata": {},
   "outputs": [],
   "source": [
    "#Cria uma coluna denominada UTI na dataset_global que indica \n",
    "#se houve utilização de UTI (valor=1, caso contrário valor=0) na internação hospitalar.\n",
    "dataset_global['UTI'] = cria_indicativo_uti(dataset_global)"
   ]
  },
  {
   "cell_type": "code",
   "execution_count": null,
   "metadata": {},
   "outputs": [],
   "source": [
    "# Preenche com o valor 0.0 os valores que estão vazios nas colunas\n",
    "# VAL_TOT e VAL_UTI\n",
    "dataset_global['VAL_TOT'].fillna(0.0, inplace = True)\n",
    "dataset_global['VAL_UTI'].fillna(0.0, inplace = True)"
   ]
  },
  {
   "cell_type": "code",
   "execution_count": null,
   "metadata": {},
   "outputs": [],
   "source": [
    "#Cria o campo \"TOTAL_GERAL\", já que os valores de UTI e o restante são separados\n",
    "# dataset_global['TOTAL_GERAL'] = dataset_global['VAL_TOT'] + dataset_global['VAL_UTI']"
   ]
  },
  {
   "cell_type": "code",
   "execution_count": null,
   "metadata": {},
   "outputs": [],
   "source": [
    "#Exclui os registros em que VAL_TOT=0, pois AIH sem custo não interessam ao objetivo do estudo.\n",
    "dataset_global.drop(labels=dataset_global.query('VAL_TOT == 0').index.values, axis=0, inplace=True)"
   ]
  },
  {
   "cell_type": "code",
   "execution_count": null,
   "metadata": {},
   "outputs": [],
   "source": [
    "#dataset_global = calcula_razao(dataset_global)"
   ]
  },
  {
   "cell_type": "code",
   "execution_count": null,
   "metadata": {},
   "outputs": [],
   "source": [
    "#dataset_global = calcula_zscore(dataset_global)"
   ]
  },
  {
   "cell_type": "code",
   "execution_count": null,
   "metadata": {},
   "outputs": [],
   "source": [
    "#dataset_global = calcula_outlier_IQR(dataset_global)"
   ]
  },
  {
   "cell_type": "code",
   "execution_count": null,
   "metadata": {},
   "outputs": [],
   "source": [
    "dataset_global['ORIGEM_AUTORIZACAO'] = origem_autorizacao(dataset_global)"
   ]
  },
  {
   "cell_type": "code",
   "execution_count": null,
   "metadata": {},
   "outputs": [],
   "source": [
    "dataset_global['RESIDE_LOCAL_ATENDIMENTO'] = cria_campo_residencia_local(dataset_global)"
   ]
  },
  {
   "cell_type": "code",
   "execution_count": null,
   "metadata": {},
   "outputs": [],
   "source": [
    "dataset_global['IDADE_PADRONIZADA'] = padroniza_idade(dataset_global)"
   ]
  },
  {
   "cell_type": "code",
   "execution_count": null,
   "metadata": {},
   "outputs": [],
   "source": [
    "dataset_global['ESPEC'] = transforma_especialidade(dataset_global)"
   ]
  },
  {
   "cell_type": "code",
   "execution_count": null,
   "metadata": {},
   "outputs": [],
   "source": [
    "dataset_global['CO_NATUREZA_JUR'] = get_natureza_juridica_simplificada(dataset_global)"
   ]
  },
  {
   "cell_type": "markdown",
   "metadata": {},
   "source": [
    "Vamos renomear as colunas para melhorar a inteligibilidade."
   ]
  },
  {
   "cell_type": "code",
   "execution_count": null,
   "metadata": {},
   "outputs": [],
   "source": [
    "colunas = {'ESPEC': 'especialidade_leito',\n",
    "           'IDENT': 'tipo_AIH',\n",
    "           'SEXO': 'sexo',\n",
    "           'MARCA_UTI': 'tipo_UTI',\n",
    "           'GESTAO': 'gestao_hospitalar',\n",
    "           'IDADE_PADRONIZADA': 'idade',\n",
    "           'MORTE': 'obito',\n",
    "           'CAR_INT': 'carater_internacao',\n",
    "           'COMPLEX': 'complexidade',\n",
    "           'FINANC': 'tipo_financiamento',\n",
    "           'TP_UNIDADE': 'tipo_unidade',\n",
    "           'CO_NATUREZA_JUR': 'natureza_juridica_entidade_simplificada',\n",
    "           'NIV_DEP': 'grau_dependencia_entidade',\n",
    "           'ATIVIDADE_ENSINO': 'atividade_ensino',\n",
    "           'PORTE_HOSPITALAR': 'porte_hospitalar',\n",
    "           'IN_POBREZA': 'municipio_extrema_probreza',\n",
    "           'QTD_MUNICIPIOS_REGIAO_SAUDE': 'qtd_municipios_regiao_saude',\n",
    "           'CLASSE_POP': 'classe_populacao',\n",
    "           'DESCRICAO_CID10': 'capitulo_CID',\n",
    "           'UTI': 'internacao_com_UTI',\n",
    "           'PROC_REA':'procedimento_realizado',\n",
    "           'ORIGEM_AUTORIZACAO': 'origem_autorizacao',\n",
    "           'RESIDE_LOCAL_ATENDIMENTO': 'reside_local_atendimento',\n",
    "           'VAL_TOT': 'valor_total'}\n",
    "\n",
    "dataset_global = dataset_global.rename(columns=colunas, errors='raise')"
   ]
  },
  {
   "cell_type": "markdown",
   "metadata": {},
   "source": [
    "Vamos ver como estão os tipos de dados."
   ]
  },
  {
   "cell_type": "code",
   "execution_count": null,
   "metadata": {},
   "outputs": [],
   "source": [
    "dataset_global.info()"
   ]
  },
  {
   "cell_type": "markdown",
   "metadata": {},
   "source": [
    "Vamos alterar o tipo dos dados para os tipos corretos."
   ]
  },
  {
   "cell_type": "code",
   "execution_count": null,
   "metadata": {},
   "outputs": [],
   "source": [
    "dataset_global = dataset_global.astype({\"especialidade_leito\":'category'\n",
    "                                        ,\"tipo_AIH\":'category'\n",
    "                                        ,'sexo':'category'\n",
    "                                        ,'gestao_hospitalar':'category'\n",
    "                                        ,'idade':'int'\n",
    "                                        ,'obito':'category'\n",
    "                                        ,'carater_internacao':'category'\n",
    "                                        ,'complexidade':'category'\n",
    "                                        ,'tipo_financiamento':'category'\n",
    "                                        ,'tipo_unidade':'category'\n",
    "                                        ,'natureza_juridica_entidade_simplificada':'category'\n",
    "                                        ,'grau_dependencia_entidade':'category'\n",
    "                                        ,'atividade_ensino':'category'\n",
    "                                        ,'porte_hospitalar':'category'\n",
    "                                        ,'municipio_extrema_probreza':'category'\n",
    "                                        ,'qtd_municipios_regiao_saude':'int'\n",
    "                                        ,'classe_populacao':'category'\n",
    "                                        ,'capitulo_CID':'category'\n",
    "                                        ,'internacao_com_UTI':'category'\n",
    "                                        ,'procedimento_realizado':'category'\n",
    "                                        ,'origem_autorizacao':'category'\n",
    "                                        ,'reside_local_atendimento':'category'\n",
    "                                        ,'valor_total':'float'}) "
   ]
  },
  {
   "cell_type": "markdown",
   "metadata": {},
   "source": [
    "Salvando os índices do meu DF com os respectivos números de AIH para posterior necessidade de rastreamento das AIH."
   ]
  },
  {
   "cell_type": "code",
   "execution_count": null,
   "metadata": {},
   "outputs": [],
   "source": [
    "df_index_naih = dataset_global[['N_AIH']].copy()\n",
    "\n",
    "#Salva o Dataframe no disco. Caso já esteja salvo, apaga-o antes.\n",
    "if os.path.exists(os.path.join(base_data_path,joblibs_folder_name,joblib_n_aih)):\n",
    "    os.remove(os.path.join(base_data_path,joblibs_folder_name,joblib_n_aih))\n",
    "dump(df_index_naih, os.path.join(base_data_path,joblibs_folder_name,joblib_n_aih))"
   ]
  },
  {
   "cell_type": "markdown",
   "metadata": {},
   "source": [
    "### DATASET FINAL\n",
    "\n",
    "- __Campo 'especialidade_leito'__: Especialidade do Leito utilizado na AIH: 01-Cirurgia; 02-Obstetrícia; 03-Clínica médica; 04-Pacientes sob cuidados prolongados; 05-Psiquiatria; 06-Tisiologia; 07-Pediatria; 08-Reabilitação; 09-Psiquiatria em hospital-dia. Não foi encontrado justicativa para o código 10. Todavia, os campos em que tiveram frequência relativa abaixo de 1% ou que os casos em que não se encontrou documentação/explicação para aqueles valores (10 ou acima) foram colocados na categoria \"10 - OUTROS\". Origem: Campo ESPEC do RD SIH.\n",
    "- __Campo 'tipo_AIH'__: Identificação do tipo da AIH - Existem dois tipos de AIH: Tipo 1: inicial e Tipo 5: continuidade. Origem: campo IDENT do RD SIH.\n",
    "- __Campo 'sexo'__: Sexo do Paciente - 1 - masculino, 3 - feminino. Origem: Campo SEXO do RD SIH.\n",
    "- __Campo 'gestao_hospitalar'__: Indica o tipo de gestão do hospital: 0 - gestão estadual; 1 - gestão plena municipal; 2 - gestão plena estadual; demais: não definida. Origem: Campo Gestao do RD SIH.\n",
    "- __Campo 'idade'__ : Idade transformada do paciente, uma vez que o campo 'COD_IDADE' tem a unidade de medida da idade, as idades que estão em dias ou meses foram transformadas em 0 anos, e aquelas acima de 100 anos, foram fixadas em 100 anos. Origem: combinação dos campos COD_IDADE e IDADE do RD SIH.\n",
    "- __Campo 'obito'__: 1 - indica o óbito do paciente. Origem: Campo MORTE do RD SIH. \n",
    "- __Campo 'carater_internacao'__: Caráter de internação: 01-Eletivo; 02-Urgência; 03-Acidente no local de trabalho ou a serviço da empresa; 04-Acidente no trajeto para o trabalho; 05-Outros tipos de acidente de transito; 06-Outros tipos de lesões e envenenamentos por agentes químicos ou físicos. Origem: Campo CAR_INT do RD SIH.\n",
    "- __Campo 'complexidade'__: 0 - Não se aplica, 1 - Atenção Básica Complexidade, 2 - Média Complexidade, 3 - Alta Complexidade. Origem: Campo COMPLEX do RD SIH.\n",
    "- __Campo 'tipo_financiamento'__: Tipo de Financiamento - Conforme SIGTAP, Tabelas, Relacionadas ao procedimento, Complementares, \"Tipo de Financiamento\" do SIGTAP - 01 - Atenção Básica (PAB); 02 - Assistência Farmacêutica; 04- Fundo de Ações Estratégicas e Compensações (FAEC); 05-Incentivo - MAC; 06- Média e Alta Complexidade (MAC); 07 - Vigilância em Saúde; 08 - Gestão do SUS. Origem: campo FINANC do RD SIH.\n",
    "- __Campo 'tipo_unidade'__: Código do tipo de unidade de saúde. Exemplo: \"05\"=\"HOSPITAL GERAL\" e \"07\"=\"HOSPITAL ESPECIALIZADO\". Tabela completa do domínio desta coluna encontra-se na Tabela tbTipoUnidade do CNES. \n",
    "- __Campo 'natureza_juridica_entidade_simplificada'__: Primeiro caracter do código da natureza Jurídica do Estabelecimento de Saúde conforme comissão nacional de classificação. Se 1=Administração Pública, se 2=Entidades Privadas, se 3=Entidades sem fins lucrativos. O domínio completo pode ser visto na Tabela tbNaturezaJuridica do CNES. Origem: campo CO_NATUREZA_JUR da tabela tbEstabelecimento201912 do CNES.\n",
    "- __Campo 'grau_dependencia_entidade'__: Grau de dependência, onde: 1-Individual 3-Mantida. Campo NIV_DEP da tabela tbEstabelecimento201912 do CNES.\n",
    "- __Campo 'atividade_ensino'__: 1 - Entidade de saúde realiza atividade de ensino. 0 - Entidade de saúde não realiza atividade de ensino. Campo ATIVIDADE_ENSINO da tabela tbEstabelecimento201912 do CNES.\n",
    "- __Campo 'porte_hospitalar'__: Pequeno Porte - até 50 leitos; Médio Porte - de 51 a 150; Grande Porte - de 151 até 500 leitos; Porte Especial - Acima de 500 leitos. Origem: linhas do arquivo LTPB1912 do CNES. Ver função porte_hospitalar(qtd_leitos) para maiores detalhes.\n",
    "- __Campo 'municipio_extrema_probreza'__: 1 - Municípios em Extrema Pobreza. 0 - aqueles que não estão em extrema pobreza. Origem: Campo IN_POBREZA da tb_municip do IBGE.\n",
    "- __Campo 'qtd_municipios_regiao_saude'__: Tabela TB_REGSAUDE (IBGE) - Região de saúde é o espaço geográfico contínuo constituído por agrupamentos de municípios limítrofes, delimitado a partir de identidades culturais, econômicas e sociais e de redes de comunicação e infraestrutura de transportes compartilhados, com a finalidade de integrar a organização, o planejamento e a execução de ações e serviços de saúde. Para o campo, será considerada a quantidade de municípios na região de saúde. \n",
    "- __Campo 'classe_populacao'__: Classe da população presente no município onde está situado o estabelecimento de saúde. Classes = 1 - Até 5000; 2 - 5001 até 10000; 3 - 10001 até 20000; 4 - 20001 até 50000; 5 - 50001 até 100000; 6 - 100001 até 500000; 7 - Maior que 500000. Origem: coluna CLASSE POP do arquivo ibge_populacao.csv. \n",
    "- __Campo 'capitulo_CID'__: Nome do capítulo referente à CID do diagnóstico principal : I. Algumas doenças infecciosas e parasitárias; II. Neoplasias (tumores) III. Doenças sangue órgãos hemat e transt imunitár; IV. Doenças endócrinas nutricionais e metabólicas; V. Transtornos mentais e comportamentais; VI. Doenças do sistema nervoso; VII. Doenças do olho e anexos; VIII.Doenças do ouvido e da apófise mastóide; IX. Doenças do aparelho circulatório; X. Doenças do aparelho respiratório; XI. Doenças do aparelho digestivo; XII. Doenças da pele e do tecido subcutâneo; XIII.Doenças sist osteomuscular e tec conjuntivo; XIV. Doenças do aparelho geniturinário; XV. Gravidez parto e puerpério; XVI. Algumas afec originadas no período perinatal; XVII.Malf cong deformid e anomalias cromossômicas; XVIII.Sint sinais e achad anorm ex clín e laborat; XIX. Lesões enven e alg out conseq causas externas; XX. Causas externas de morbidade e mortalidade; XXI. Contatos com serviços de saúde; XXII.Códigos para propósitos especiais. Origem: CID.\n",
    "- __Campo 'internacao_com_UTI'__: 1 - indica se o procedimento utilizou UTI. Origem: campos UTI_MES_TO (Total de dias de UTI durante a internação) e VAL_UTI (Valor referente aos gastos em UTI) do RD SIH.\n",
    "- __Campo 'procedimento_realizado'__: Procedimento principal realizado, conforme SIGTAP. Origem: coluna PROC_REA do RD SIH.\n",
    "- __Campo 'origem_autorizacao'__: 1 - para identificar que a autorização é de Internação (AIH) - uso geral; 3 - para identificar que a numeração é de internação (AIH) específica da CNRAC; 5 - para identificar que a autorização é de internação (AIH) específica para a estratégia de aumento do acesso aos Procedimentos Cirúrgicos Eletivos no âmbito do Sistema Único de Saúde (SUS), seja componente I, II ou III, definidos pela Portaria GM/MS nº 1.340, de 29 de junho de 2012 e legislação correlata. Origem: 5 dígito do campo N_AIH do RD SIH.\n",
    "- __Campo 'reside_local_atendimento'__: 1 - Paciente reside no município onde está a entidade de saúde. Origem: comparação entre o campo MUNIC_RES do RD SIH e CO_MUNICIPIO_GESTOR da tabela tbEstabelecimento201912 do CNES.\n",
    "- __Campo 'valor_total'__: É o valor total da internação. Origem: campo VAL_TOT do RD SIH.\n",
    "- __Campo 'razao_valor_mediana'__: Razão entre o valor total da AIH e a mediana da tupla procedimento, uti. \n",
    "- __Campo 'zscore'__: ZScore do valor total da AIH, considerando a tupla procedimento, uti.\n",
    "- __Campo 'outlier_IQR'__: é outlier pelo critério IQR=1.5 na coluna valor total da AIH, considerando cada grupo como sendo a tupla procedimento, uti."
   ]
  },
  {
   "cell_type": "code",
   "execution_count": null,
   "metadata": {},
   "outputs": [],
   "source": [
    "### Dicionário do Modelo Final\n",
    "dados_preparados = dataset_global[['especialidade_leito'\n",
    "                                   ,'tipo_AIH'\n",
    "                                   ,'sexo'\n",
    "                                   ,'gestao_hospitalar'\n",
    "                                   ,'idade'\n",
    "                                   ,'obito'\n",
    "                                   ,'carater_internacao'\n",
    "                                   ,'complexidade'\n",
    "                                   ,'tipo_financiamento'\n",
    "                                   ,'tipo_unidade'\n",
    "                                   ,'natureza_juridica_entidade_simplificada'\n",
    "                                   ,'grau_dependencia_entidade'\n",
    "                                   ,'atividade_ensino'\n",
    "                                   ,'porte_hospitalar'\n",
    "                                   ,'municipio_extrema_probreza'\n",
    "                                   ,'qtd_municipios_regiao_saude'\n",
    "                                   ,'classe_populacao'\n",
    "                                   ,'capitulo_CID'\n",
    "                                   ,'internacao_com_UTI'\n",
    "                                   ,'procedimento_realizado'\n",
    "                                   ,'origem_autorizacao'\n",
    "                                   ,'reside_local_atendimento'\n",
    "                                   ,'valor_total']].copy()"
   ]
  },
  {
   "cell_type": "code",
   "execution_count": null,
   "metadata": {},
   "outputs": [],
   "source": [
    "#Salva o Dataframe no disco. Caso já esteja salvo, apaga-o antes.\n",
    "if os.path.exists(os.path.join(base_data_path,joblibs_folder_name,joblib_file_name)):\n",
    "    os.remove(os.path.join(base_data_path,joblibs_folder_name,joblib_file_name))\n",
    "dump(dados_preparados, os.path.join(base_data_path,joblibs_folder_name,joblib_file_name))"
   ]
  },
  {
   "cell_type": "code",
   "execution_count": null,
   "metadata": {},
   "outputs": [],
   "source": [
    "# %run dbf_to_parquet.py\n",
    "dados_preparados.shape"
   ]
  }
 ],
 "metadata": {
  "kernelspec": {
   "display_name": "Python 3",
   "language": "python",
   "name": "python3"
  },
  "language_info": {
   "codemirror_mode": {
    "name": "ipython",
    "version": 3
   },
   "file_extension": ".py",
   "mimetype": "text/x-python",
   "name": "python",
   "nbconvert_exporter": "python",
   "pygments_lexer": "ipython3",
   "version": "3.8.3"
  },
  "notify_time": "5"
 },
 "nbformat": 4,
 "nbformat_minor": 2
}
