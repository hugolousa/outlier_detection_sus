{
 "cells": [
  {
   "cell_type": "markdown",
   "metadata": {},
   "source": [
    "### EDA do meu dataset."
   ]
  },
  {
   "cell_type": "code",
   "execution_count": null,
   "metadata": {},
   "outputs": [],
   "source": [
    "import pandas as pd\n",
    "import numpy as np\n",
    "from statsmodels.formula.api import ols\n",
    "import dtale\n",
    "import math\n",
    "from sklearn.preprocessing import OrdinalEncoder\n",
    "from sklearn.preprocessing import StandardScaler, MinMaxScaler\n",
    "from sklearn.cluster import KMeans\n",
    "from sklearn.decomposition import PCA\n",
    "from joblib import dump\n",
    "from joblib import load\n",
    "from scipy.stats import ranksums, kruskal\n",
    "import seaborn as sns\n",
    "import matplotlib.pyplot as plt\n",
    "import os\n",
    "from pandas_profiling import ProfileReport\n",
    "from sklearn.linear_model import LinearRegression\n",
    "from sklearn.model_selection import train_test_split, RepeatedKFold, cross_val_score\n",
    "from statsmodels.stats.outliers_influence import variance_inflation_factor\n",
    "#PYOD\n",
    "from pyod.models.copod import COPOD\n",
    "from pyod.utils.data import generate_data\n",
    "from pyod.utils.data import evaluate_print\n",
    "from pyod.utils.example import visualize\n",
    "\n",
    "joblibs_folder_name = 'Joblib'\n",
    "joblib_file_name = 'dados_preparados.joblib'\n",
    "joblib_file_name_pos_exploratorio = 'dados_pos_exploratorio.joblib'\n",
    "\n",
    "base_data_path = 'Dados'"
   ]
  },
  {
   "cell_type": "code",
   "execution_count": null,
   "metadata": {},
   "outputs": [],
   "source": [
    "sns.set_palette(\"Accent_r\")\n",
    "sns.set_style(\"darkgrid\")\n",
    "sns.set(font_scale = 1.5)\n",
    "a4_dims = (11.7, 8.27)"
   ]
  },
  {
   "cell_type": "code",
   "execution_count": null,
   "metadata": {},
   "outputs": [],
   "source": [
    "def plota_ridge(data, row, hue, y):\n",
    "    sns.set_theme(style=\"white\", rc={\"axes.facecolor\": (0, 0, 0, 0)})\n",
    "    # Initialize the FacetGrid object\n",
    "    pal = sns.cubehelix_palette(10, rot=-.25, light=.7)\n",
    "    g = sns.FacetGrid(data=data, row=row, hue=hue, aspect=15, height=.9, palette=pal)\n",
    "\n",
    "    # Draw the densities in a few steps\n",
    "    g.map(sns.kdeplot, y,\n",
    "          bw_adjust=.5, clip_on=False,\n",
    "          fill=True, alpha=1, linewidth=1.5)\n",
    "    g.map(sns.kdeplot, y, clip_on=False, color=\"w\", lw=2, bw_adjust=.5)\n",
    "    g.map(plt.axhline, y=0, lw=2, clip_on=False)\n",
    "\n",
    "\n",
    "    # Define and use a simple function to label the plot in axes coordinates\n",
    "    def label(x, color, label):\n",
    "        ax = plt.gca()\n",
    "        ax.text(0, .2, label, fontweight=\"bold\", color=color,\n",
    "                ha=\"left\", va=\"center\", transform=ax.transAxes)\n",
    "\n",
    "\n",
    "    g.map(label, y)\n",
    "\n",
    "    # Set the subplots to overlap\n",
    "    g.fig.subplots_adjust(hspace=-.25)\n",
    "\n",
    "    # Remove axes details that don't play well with overlap\n",
    "    g.set_titles(\"\")\n",
    "    g.set(yticks=[])\n",
    "    g.despine(bottom=True, left=True)"
   ]
  },
  {
   "cell_type": "code",
   "execution_count": null,
   "metadata": {},
   "outputs": [],
   "source": [
    "def get_pesos_por_classe(dataset, label_feature_categorica, label_feature_numerica):\n",
    "\n",
    "    #pegando as métricas:menor média dos grupos, menor mediana dos grupos, valor mínimo e valor máximo\n",
    "    media_classe_minima = dataset.groupby([label_feature_categorica])[label_feature_numerica].describe().sort_values('50%').iloc[0, :][1]\n",
    "    mediana_classe_minima = dataset.groupby([label_feature_categorica])[label_feature_numerica].describe().sort_values('50%').iloc[0, :][5]\n",
    "    valor_minimo_classe_minima = dataset.groupby([label_feature_categorica])[label_feature_numerica].describe().sort_values('50%').iloc[0, :][3]\n",
    "    valor_maximo_classe_minima = dataset.groupby([label_feature_categorica])[label_feature_numerica].describe().sort_values('50%').iloc[0, :][7]\n",
    "    \n",
    "    #pegando o percentil 90 e 75 do grupo de menor mediana\n",
    "    grupo = dataset.groupby([label_feature_categorica])[label_feature_numerica].median().sort_values(ascending=True).reset_index().iloc[0,0]\n",
    "    valor_percentil_90_classe_minima = dados.groupby(label_feature_categorica)[label_feature_numerica].get_group(grupo).quantile(.9)\n",
    "    valor_percentil_75_classe_minima = dados.groupby(label_feature_categorica)[label_feature_numerica].get_group(grupo).quantile(.75)\n",
    "    \n",
    "    #calculando o peso mínimo\n",
    "    peso_minimo = 0.80*mediana_classe_minima+0.15*media_classe_minima+0.025*valor_percentil_75_classe_minima+0.025*valor_percentil_90_classe_minima\n",
    "    \n",
    "    #calculando para cada categoria\n",
    "    serie_medias = dataset.groupby([label_feature_categorica])[label_feature_numerica].transform('mean') \n",
    "    serie_medianas = dataset.groupby([label_feature_categorica])[label_feature_numerica].transform('median')\n",
    "    serie_minimos = dataset.groupby([label_feature_categorica])[label_feature_numerica].transform('min')\n",
    "    serie_percentil_75 = dados.groupby(label_feature_categorica)[label_feature_numerica].transform(lambda x:np.percentile(x, 75))\n",
    "    serie_percentil_90 = dados.groupby(label_feature_categorica)[label_feature_numerica].transform(lambda x:np.percentile(x, 90))\n",
    "    serie_maximos = dataset.groupby([label_feature_categorica])[label_feature_numerica].transform('max')\n",
    "    \n",
    "    serie_pesos = 0.80*serie_medianas+0.15*serie_medias+0.025*serie_percentil_75+0.025*serie_percentil_90\n",
    "    #normalizando pelo de menor mediana\n",
    "    serie_pesos_normalizada = (serie_pesos / peso_minimo) - 1\n",
    "    #normalizar e realizar esse teste (mixmaxscaler, normalizar entre 0 e 1).\n",
    "    serie_teste = (serie_medianas/mediana_classe_minima) - 1\n",
    "    return serie_pesos_normalizada\n",
    "    "
   ]
  },
  {
   "cell_type": "code",
   "execution_count": null,
   "metadata": {},
   "outputs": [],
   "source": [
    "def convert_ordinal_by_median_order(label_feature_categorica, label_feature_numerica, dataset):\n",
    "    keys = dataset.groupby([label_feature_categorica])[label_feature_numerica].agg('median').sort_values().index.tolist()\n",
    "    values = np.arange(1, len(dataset.groupby([label_feature_categorica])[label_feature_numerica].agg('median'))+1)\n",
    "\n",
    "    return dataset[label_feature_categorica].map(dict(zip(keys,values)))"
   ]
  },
  {
   "cell_type": "code",
   "execution_count": null,
   "metadata": {},
   "outputs": [],
   "source": [
    "def get_pesos_por_classe_mediana(dataset, label_feature_categorica, label_feature_numerica):\n",
    "\n",
    "    #pegando as métricas:menor mediana dos grupos\n",
    "    mediana_classe_minima = dataset.groupby([label_feature_categorica])[label_feature_numerica].describe().sort_values('50%').iloc[0, :][5]\n",
    "    \n",
    "    #calculando para cada categoria\n",
    "    serie_medianas = dataset.groupby([label_feature_categorica])[label_feature_numerica].transform('median')\n",
    "    \n",
    "    #normalizar e realizar esse teste (mixmaxscaler, normalizar entre 0 e 1).\n",
    "    serie_teste = (serie_medianas/mediana_classe_minima) - 1\n",
    "    \n",
    "    return serie_teste"
   ]
  },
  {
   "cell_type": "code",
   "execution_count": null,
   "metadata": {},
   "outputs": [],
   "source": [
    "#carregando os dados que já foram lidos e minimamente tratados.\n",
    "dados = load(os.path.join(base_data_path,joblibs_folder_name,joblib_file_name))"
   ]
  },
  {
   "cell_type": "code",
   "execution_count": null,
   "metadata": {},
   "outputs": [],
   "source": [
    "dados.shape"
   ]
  },
  {
   "cell_type": "code",
   "execution_count": null,
   "metadata": {},
   "outputs": [],
   "source": [
    "dados.columns"
   ]
  },
  {
   "cell_type": "code",
   "execution_count": null,
   "metadata": {},
   "outputs": [],
   "source": [
    "dados.head()"
   ]
  },
  {
   "cell_type": "code",
   "execution_count": null,
   "metadata": {},
   "outputs": [],
   "source": [
    "dados.info()"
   ]
  },
  {
   "cell_type": "code",
   "execution_count": null,
   "metadata": {},
   "outputs": [],
   "source": [
    "categorical_features = dados.select_dtypes(include = ['category']).columns\n",
    "numerical_features = dados.select_dtypes(include = [np.number]).columns\n",
    "\n",
    "print(f'Qtd features categóricas = {len(categorical_features)}')\n",
    "print(f'Qtd features numéricas = {len(numerical_features)}')"
   ]
  },
  {
   "cell_type": "markdown",
   "metadata": {},
   "source": [
    "### Análise exploratória univariada."
   ]
  },
  {
   "cell_type": "code",
   "execution_count": null,
   "metadata": {},
   "outputs": [],
   "source": [
    "sample = dados.sample(dados.shape[0])\n",
    "profile = ProfileReport(sample)\n",
    "profile.set_variable('correlations',\n",
    "                      {'pearson.threshold':0.8,\n",
    "                       'spearman.threshold':0.8,\n",
    "                       'kendall.threshold':0.8,\n",
    "                       'phi_k.threshold':0.8,\n",
    "                       'cramers.threshold':0.8\n",
    "                      })\n",
    "profile.to_widgets()\n",
    "#profile.to_file(\"Exploratorio.html\")"
   ]
  },
  {
   "cell_type": "markdown",
   "metadata": {},
   "source": [
    "Com base na correlação de Phik, iremos dropar a seguinte feature: origem_autorizacao."
   ]
  },
  {
   "cell_type": "code",
   "execution_count": null,
   "metadata": {},
   "outputs": [],
   "source": [
    "dados.drop(columns=['origem_autorizacao'], inplace=True)"
   ]
  },
  {
   "cell_type": "markdown",
   "metadata": {},
   "source": [
    "### Partiremos agora para uma análise exploratória entre a variável valor_total e as outras variáveis categóricas do meu dataset."
   ]
  },
  {
   "cell_type": "markdown",
   "metadata": {},
   "source": [
    "#### valor_total vs natureza_juridica_entidade_simplificada"
   ]
  },
  {
   "cell_type": "code",
   "execution_count": null,
   "metadata": {},
   "outputs": [],
   "source": [
    "dados.groupby(['natureza_juridica_entidade_simplificada'])['valor_total'].describe(percentiles=[.25, .5, .75, .9])"
   ]
  },
  {
   "cell_type": "code",
   "execution_count": null,
   "metadata": {},
   "outputs": [],
   "source": [
    "dados.groupby(['natureza_juridica_entidade_simplificada'])['valor_total'].describe(percentiles=[.25, .5, .75, .9])"
   ]
  },
  {
   "cell_type": "code",
   "execution_count": null,
   "metadata": {},
   "outputs": [],
   "source": [
    "fig, ax = plt.subplots(figsize=a4_dims)\n",
    "sns.boxplot(x='natureza_juridica_entidade_simplificada', y=np.log10(dados.valor_total), data=dados, notch=True)"
   ]
  },
  {
   "cell_type": "code",
   "execution_count": null,
   "metadata": {},
   "outputs": [],
   "source": [
    "fig, ax = plt.subplots(figsize=a4_dims)\n",
    "sns.violinplot(x='natureza_juridica_entidade_simplificada', y=np.log10(dados.valor_total), data=dados, notch=True, inner='box')"
   ]
  },
  {
   "cell_type": "code",
   "execution_count": null,
   "metadata": {},
   "outputs": [],
   "source": [
    "#irei manter a mesma codificação, que já me atende.\n",
    "dados['natureza_juridica_entidade_simplificada'].cat.rename_categories({'1': 1, '2': 2, '3':3}, inplace=True)"
   ]
  },
  {
   "cell_type": "markdown",
   "metadata": {},
   "source": [
    "#### valor_total vs especialidade_leito"
   ]
  },
  {
   "cell_type": "code",
   "execution_count": null,
   "metadata": {},
   "outputs": [],
   "source": [
    "dados.groupby(['especialidade_leito'])['valor_total'].describe(percentiles=[.25, .5, .75, .9])"
   ]
  },
  {
   "cell_type": "markdown",
   "metadata": {},
   "source": [
    "01-Cirurgia; 02-Obstetrícia; 03-Clínica médica; 04-Pacientes sob cuidados prolongados; 05-Psiquiatria; 06-Tisiologia; 07-Pediatria; 08-Reabilitação; 09-Psiquiatria em hospital-dia. Não foi encontrado justicativa para o código 10"
   ]
  },
  {
   "cell_type": "code",
   "execution_count": null,
   "metadata": {},
   "outputs": [],
   "source": [
    "dados.groupby(['especialidade_leito'])['valor_total'].describe(percentiles=[.25, .5, .75, .9]).sort_values('50%')"
   ]
  },
  {
   "cell_type": "code",
   "execution_count": null,
   "metadata": {},
   "outputs": [],
   "source": [
    "fig, ax = plt.subplots(figsize=a4_dims)\n",
    "sns.boxplot(x='especialidade_leito', y=np.log10(dados.valor_total), data=dados, notch=True)"
   ]
  },
  {
   "cell_type": "code",
   "execution_count": null,
   "metadata": {},
   "outputs": [],
   "source": [
    "fig, ax = plt.subplots(figsize=a4_dims)\n",
    "sns.violinplot(x='especialidade_leito', y=np.log10(dados.valor_total), data=dados, notch=True, inner='box')"
   ]
  },
  {
   "cell_type": "code",
   "execution_count": null,
   "metadata": {
    "scrolled": true
   },
   "outputs": [],
   "source": [
    "#vou manter do jeito que está, sem nenhuma transformação.\n",
    "# dados['especialidade_leito'] = convert_ordinal_by_median_order(label_feature_categorica='especialidade_leito',\n",
    "#                                                          label_feature_numerica='valor_total',\n",
    "#                                                          dataset=dados)"
   ]
  },
  {
   "cell_type": "markdown",
   "metadata": {},
   "source": [
    "#### valor_total vs tipo_AIH"
   ]
  },
  {
   "cell_type": "code",
   "execution_count": null,
   "metadata": {},
   "outputs": [],
   "source": [
    "dados.groupby(['tipo_AIH'])['valor_total'].describe(percentiles=[.25, .5, .75, .9])"
   ]
  },
  {
   "cell_type": "markdown",
   "metadata": {},
   "source": [
    "Tipo 1: inicial e Tipo 5: continuidade"
   ]
  },
  {
   "cell_type": "code",
   "execution_count": null,
   "metadata": {},
   "outputs": [],
   "source": [
    "dados.groupby(['tipo_AIH'])['valor_total'].describe(percentiles=[.25, .5, .75, .9])"
   ]
  },
  {
   "cell_type": "code",
   "execution_count": null,
   "metadata": {},
   "outputs": [],
   "source": [
    "fig, ax = plt.subplots(figsize=a4_dims)\n",
    "sns.boxplot(x='tipo_AIH', y=np.log10(dados.valor_total), data=dados, notch=True)"
   ]
  },
  {
   "cell_type": "code",
   "execution_count": null,
   "metadata": {},
   "outputs": [],
   "source": [
    "fig, ax = plt.subplots(figsize=a4_dims)\n",
    "sns.violinplot(x='tipo_AIH', y=np.log10(dados.valor_total), data=dados, notch=True, inner='box')"
   ]
  },
  {
   "cell_type": "code",
   "execution_count": null,
   "metadata": {},
   "outputs": [],
   "source": [
    "dados['AIH_continuidade'] = dados['tipo_AIH'].apply(lambda x: 1 if x=='5' else 0).astype('category')\n",
    "dados.drop(columns='tipo_AIH', inplace=True)"
   ]
  },
  {
   "cell_type": "code",
   "execution_count": null,
   "metadata": {},
   "outputs": [],
   "source": [
    "dados.groupby(['AIH_continuidade'])['valor_total'].describe(percentiles=[.25, .5, .75, .9])"
   ]
  },
  {
   "cell_type": "code",
   "execution_count": null,
   "metadata": {},
   "outputs": [],
   "source": [
    "fig, ax = plt.subplots(figsize=a4_dims)\n",
    "sns.violinplot(x='AIH_continuidade', y=np.log10(dados.valor_total), data=dados, notch=True, inner='box')"
   ]
  },
  {
   "cell_type": "markdown",
   "metadata": {},
   "source": [
    "#### valor_total vs sexo"
   ]
  },
  {
   "cell_type": "code",
   "execution_count": null,
   "metadata": {},
   "outputs": [],
   "source": [
    "dados.groupby(['sexo'])['valor_total'].describe(percentiles=[.25, .5, .75, .9])"
   ]
  },
  {
   "cell_type": "markdown",
   "metadata": {},
   "source": [
    "1 - masculino, 3 - feminino"
   ]
  },
  {
   "cell_type": "code",
   "execution_count": null,
   "metadata": {},
   "outputs": [],
   "source": [
    "dados.groupby(['sexo'])['valor_total'].describe(percentiles=[.25, .5, .75, .9])"
   ]
  },
  {
   "cell_type": "code",
   "execution_count": null,
   "metadata": {},
   "outputs": [],
   "source": [
    "fig, ax = plt.subplots(figsize=a4_dims)\n",
    "sns.boxplot(x='sexo', y=np.log10(dados.valor_total), data=dados, notch=True)"
   ]
  },
  {
   "cell_type": "code",
   "execution_count": null,
   "metadata": {},
   "outputs": [],
   "source": [
    "fig, ax = plt.subplots(figsize=a4_dims)\n",
    "sns.violinplot(x='sexo', y=np.log10(dados.valor_total), data=dados, notch=True, inner='box')"
   ]
  },
  {
   "cell_type": "code",
   "execution_count": null,
   "metadata": {},
   "outputs": [],
   "source": [
    "dados.drop(columns=['sexo'], inplace=True)"
   ]
  },
  {
   "cell_type": "markdown",
   "metadata": {},
   "source": [
    "#### valor_total vs gestao_hospitalar"
   ]
  },
  {
   "cell_type": "code",
   "execution_count": null,
   "metadata": {},
   "outputs": [],
   "source": [
    "dados.groupby(['gestao_hospitalar'])['valor_total'].describe(percentiles=[.25, .5, .75, .9])"
   ]
  },
  {
   "cell_type": "markdown",
   "metadata": {},
   "source": [
    "0 - gestão estadual; 1 - gestão plena municipal; 2 - gestão plena estadual; demais: não definida"
   ]
  },
  {
   "cell_type": "code",
   "execution_count": null,
   "metadata": {},
   "outputs": [],
   "source": [
    "dados.groupby(['gestao_hospitalar'])['valor_total'].describe(percentiles=[.25, .5, .75, .9])"
   ]
  },
  {
   "cell_type": "code",
   "execution_count": null,
   "metadata": {},
   "outputs": [],
   "source": [
    "fig, ax = plt.subplots(figsize=a4_dims)\n",
    "sns.boxplot(x='gestao_hospitalar', y=np.log10(dados.valor_total), data=dados, notch=True)"
   ]
  },
  {
   "cell_type": "code",
   "execution_count": null,
   "metadata": {},
   "outputs": [],
   "source": [
    "fig, ax = plt.subplots(figsize=a4_dims)\n",
    "sns.violinplot(x='gestao_hospitalar', y=np.log10(dados.valor_total), data=dados, notch=True, inner='box')"
   ]
  },
  {
   "cell_type": "code",
   "execution_count": null,
   "metadata": {},
   "outputs": [],
   "source": [
    "dados.drop(columns=['gestao_hospitalar'], inplace=True)"
   ]
  },
  {
   "cell_type": "markdown",
   "metadata": {},
   "source": [
    "#### valor_total vs obito"
   ]
  },
  {
   "cell_type": "code",
   "execution_count": null,
   "metadata": {},
   "outputs": [],
   "source": [
    "dados.groupby(['obito'])['valor_total'].describe(percentiles=[.25, .5, .75, .9])"
   ]
  },
  {
   "cell_type": "code",
   "execution_count": null,
   "metadata": {},
   "outputs": [],
   "source": [
    "dados.groupby(['obito'])['valor_total'].describe(percentiles=[.25, .5, .75, .9])"
   ]
  },
  {
   "cell_type": "code",
   "execution_count": null,
   "metadata": {},
   "outputs": [],
   "source": [
    "fig, ax = plt.subplots(figsize=a4_dims)\n",
    "sns.boxplot(x='obito', y=np.log10(dados.valor_total), data=dados, notch=True)"
   ]
  },
  {
   "cell_type": "code",
   "execution_count": null,
   "metadata": {},
   "outputs": [],
   "source": [
    "fig, ax = plt.subplots(figsize=a4_dims)\n",
    "sns.violinplot(x='obito', y=np.log10(dados.valor_total), data=dados, notch=True, inner='box')"
   ]
  },
  {
   "cell_type": "code",
   "execution_count": null,
   "metadata": {},
   "outputs": [],
   "source": [
    "#manter"
   ]
  },
  {
   "cell_type": "markdown",
   "metadata": {},
   "source": [
    "#### valor_total vs carater_internacao"
   ]
  },
  {
   "cell_type": "code",
   "execution_count": null,
   "metadata": {},
   "outputs": [],
   "source": [
    "dados.groupby(['carater_internacao'])['valor_total'].describe(percentiles=[.25, .5, .75, .9])"
   ]
  },
  {
   "cell_type": "markdown",
   "metadata": {},
   "source": [
    "01-Eletivo; 02-Urgência; 03-Acidente no local de trabalho ou a serviço da empresa; 04-Acidente no trajeto para o trabalho; 05-Outros tipos de acidente de transito; 06-Outros tipos de lesões e envenenamentos por agentes químicos ou físicos"
   ]
  },
  {
   "cell_type": "code",
   "execution_count": null,
   "metadata": {},
   "outputs": [],
   "source": [
    "dados.groupby(['carater_internacao'])['valor_total'].describe(percentiles=[.25, .5, .75, .9])"
   ]
  },
  {
   "cell_type": "code",
   "execution_count": null,
   "metadata": {},
   "outputs": [],
   "source": [
    "fig, ax = plt.subplots(figsize=a4_dims)\n",
    "sns.boxplot(x='carater_internacao', y=np.log10(dados.valor_total), data=dados, notch=True)"
   ]
  },
  {
   "cell_type": "code",
   "execution_count": null,
   "metadata": {},
   "outputs": [],
   "source": [
    "fig, ax = plt.subplots(figsize=a4_dims)\n",
    "sns.violinplot(x='carater_internacao', y=np.log10(dados.valor_total), data=dados, notch=True, inner='box')"
   ]
  },
  {
   "cell_type": "code",
   "execution_count": null,
   "metadata": {},
   "outputs": [],
   "source": [
    "#mantem\n",
    "#atenção na classe 02: veja o salto de 90% para max.\n",
    "# dados['carater_internacao'] = convert_ordinal_by_median_order(dataset=dados,\n",
    "#                                                         label_feature_categorica='carater_internacao',\n",
    "#                                                         label_feature_numerica='valor_total')"
   ]
  },
  {
   "cell_type": "markdown",
   "metadata": {},
   "source": [
    "#### valor_total vs complexidade"
   ]
  },
  {
   "cell_type": "code",
   "execution_count": null,
   "metadata": {},
   "outputs": [],
   "source": [
    "dados.groupby(['complexidade'])['valor_total'].describe(percentiles=[.25, .5, .75, .9])"
   ]
  },
  {
   "cell_type": "markdown",
   "metadata": {},
   "source": [
    "1 - Atenção Básica Complexidade, 2 - Média Complexidade, 3 - Alta Complexidade"
   ]
  },
  {
   "cell_type": "code",
   "execution_count": null,
   "metadata": {},
   "outputs": [],
   "source": [
    "dados.groupby(['complexidade'])['valor_total'].describe(percentiles=[.25, .5, .75, .9])"
   ]
  },
  {
   "cell_type": "code",
   "execution_count": null,
   "metadata": {},
   "outputs": [],
   "source": [
    "fig, ax = plt.subplots(figsize=a4_dims)\n",
    "sns.boxplot(x='complexidade', y=np.log10(dados.valor_total), data=dados, notch=True)"
   ]
  },
  {
   "cell_type": "code",
   "execution_count": null,
   "metadata": {},
   "outputs": [],
   "source": [
    "fig, ax = plt.subplots(figsize=a4_dims)\n",
    "sns.violinplot(x='complexidade', y=np.log10(dados.valor_total), data=dados, notch=True, inner='box')"
   ]
  },
  {
   "cell_type": "code",
   "execution_count": null,
   "metadata": {},
   "outputs": [],
   "source": [
    "dados['complexidade_alta'] = dados['complexidade'].apply(lambda x: 1 if x=='03' else 0).astype('category')\n",
    "dados.drop(columns='complexidade', inplace=True)"
   ]
  },
  {
   "cell_type": "code",
   "execution_count": null,
   "metadata": {},
   "outputs": [],
   "source": [
    "dados.groupby(['complexidade_alta'])['valor_total'].describe(percentiles=[.25, .5, .75, .9])"
   ]
  },
  {
   "cell_type": "code",
   "execution_count": null,
   "metadata": {},
   "outputs": [],
   "source": [
    "fig, ax = plt.subplots(figsize=a4_dims)\n",
    "sns.violinplot(x='complexidade_alta', y=np.log10(dados.valor_total), data=dados, notch=True, inner='box')"
   ]
  },
  {
   "cell_type": "markdown",
   "metadata": {},
   "source": [
    "#### valor_total vs tipo_financiamento"
   ]
  },
  {
   "cell_type": "code",
   "execution_count": null,
   "metadata": {},
   "outputs": [],
   "source": [
    "dados.groupby(['tipo_financiamento'])['valor_total'].describe(percentiles=[.25, .5, .75, .9])"
   ]
  },
  {
   "cell_type": "markdown",
   "metadata": {},
   "source": [
    "01 - Atenção Básica (PAB); 02 - Assistência Farmacêutica; 04- Fundo de Ações Estratégicas e Compensações (FAEC); 05-Incentivo - MAC; 06- Média e Alta Complexidade (MAC); 07 - Vigilância em Saúde; 08 - Gestão do SUS"
   ]
  },
  {
   "cell_type": "code",
   "execution_count": null,
   "metadata": {},
   "outputs": [],
   "source": [
    "dados.groupby(['tipo_financiamento'])['valor_total'].describe(percentiles=[.25, .5, .75, .9])"
   ]
  },
  {
   "cell_type": "code",
   "execution_count": null,
   "metadata": {},
   "outputs": [],
   "source": [
    "fig, ax = plt.subplots(figsize=a4_dims)\n",
    "sns.boxplot(x='tipo_financiamento', y=np.log10(dados.valor_total), data=dados, notch=True)"
   ]
  },
  {
   "cell_type": "code",
   "execution_count": null,
   "metadata": {},
   "outputs": [],
   "source": [
    "fig, ax = plt.subplots(figsize=a4_dims)\n",
    "sns.violinplot(x='tipo_financiamento', y=np.log10(dados.valor_total), data=dados, notch=True, inner='box')"
   ]
  },
  {
   "cell_type": "code",
   "execution_count": null,
   "metadata": {},
   "outputs": [],
   "source": [
    "dados.drop(columns=['tipo_financiamento'], inplace=True)"
   ]
  },
  {
   "cell_type": "markdown",
   "metadata": {},
   "source": [
    "#### valor_total vs tipo_unidade"
   ]
  },
  {
   "cell_type": "code",
   "execution_count": null,
   "metadata": {},
   "outputs": [],
   "source": [
    "dados.groupby(['tipo_unidade'])['valor_total'].describe(percentiles=[.25, .5, .75, .9])"
   ]
  },
  {
   "cell_type": "markdown",
   "metadata": {},
   "source": [
    " \"05\"=\"HOSPITAL GERAL\", \"07\"=\"HOSPITAL ESPECIALIZADO\", \"15\";\"UNIDADE MISTA\", \"62\";\"HOSPITAL/DIA - ISOLADO\" <br>\n",
    " Detalhamento em http://tabnet.datasus.gov.br/cgi/cnes/tipo_estabelecimento.htm#:~:text=Unidade%20Mista%3A%20Unidade%20de%20sa%C3%BAde,de%20interna%C3%A7%C3%A3o%2C%20sob%20administra%C3%A7%C3%A3o%20%C3%BAnica."
   ]
  },
  {
   "cell_type": "code",
   "execution_count": null,
   "metadata": {},
   "outputs": [],
   "source": [
    "dados.groupby(['tipo_unidade'])['valor_total'].describe(percentiles=[.25, .5, .75, .9])"
   ]
  },
  {
   "cell_type": "code",
   "execution_count": null,
   "metadata": {},
   "outputs": [],
   "source": [
    "fig, ax = plt.subplots(figsize=a4_dims)\n",
    "sns.boxplot(x='tipo_unidade', y=np.log10(dados.valor_total), data=dados, notch=True)"
   ]
  },
  {
   "cell_type": "code",
   "execution_count": null,
   "metadata": {},
   "outputs": [],
   "source": [
    "fig, ax = plt.subplots(figsize=a4_dims)\n",
    "sns.violinplot(x='tipo_unidade', y=np.log10(dados.valor_total), data=dados, notch=True, inner='box')"
   ]
  },
  {
   "cell_type": "code",
   "execution_count": null,
   "metadata": {},
   "outputs": [],
   "source": [
    "dados['tipo_unidade_62'] = dados['tipo_unidade'].apply(lambda x: 1 if x=='62' else 0).astype('category')\n",
    "dados.drop(columns='tipo_unidade', inplace=True)"
   ]
  },
  {
   "cell_type": "code",
   "execution_count": null,
   "metadata": {},
   "outputs": [],
   "source": [
    "dados.groupby(['tipo_unidade_62'])['valor_total'].describe(percentiles=[.25, .5, .75, .9])"
   ]
  },
  {
   "cell_type": "code",
   "execution_count": null,
   "metadata": {},
   "outputs": [],
   "source": [
    "fig, ax = plt.subplots(figsize=a4_dims)\n",
    "sns.violinplot(x='tipo_unidade_62', y=np.log10(dados.valor_total), data=dados, notch=True, inner='box')"
   ]
  },
  {
   "cell_type": "markdown",
   "metadata": {},
   "source": [
    "#### valor_total vs grau_dependencia_entidade"
   ]
  },
  {
   "cell_type": "code",
   "execution_count": null,
   "metadata": {},
   "outputs": [],
   "source": [
    "dados.groupby(['grau_dependencia_entidade'])['valor_total'].describe(percentiles=[.25, .5, .75, .9])"
   ]
  },
  {
   "cell_type": "markdown",
   "metadata": {},
   "source": [
    "Grau de dependência: 1-Individual, 3-Mantida"
   ]
  },
  {
   "cell_type": "code",
   "execution_count": null,
   "metadata": {},
   "outputs": [],
   "source": [
    "dados.groupby(['grau_dependencia_entidade'])['valor_total'].describe(percentiles=[.25, .5, .75, .9])"
   ]
  },
  {
   "cell_type": "code",
   "execution_count": null,
   "metadata": {},
   "outputs": [],
   "source": [
    "fig, ax = plt.subplots(figsize=a4_dims)\n",
    "sns.boxplot(x='grau_dependencia_entidade', y=np.log10(dados.valor_total), data=dados, notch=True)"
   ]
  },
  {
   "cell_type": "code",
   "execution_count": null,
   "metadata": {},
   "outputs": [],
   "source": [
    "fig, ax = plt.subplots(figsize=a4_dims)\n",
    "sns.violinplot(x='grau_dependencia_entidade', y=np.log10(dados.valor_total), data=dados, notch=True, inner='box')"
   ]
  },
  {
   "cell_type": "code",
   "execution_count": null,
   "metadata": {},
   "outputs": [],
   "source": [
    "dados.drop(columns='grau_dependencia_entidade', inplace=True)"
   ]
  },
  {
   "cell_type": "markdown",
   "metadata": {},
   "source": [
    "#### valor_total vs atividade_ensino"
   ]
  },
  {
   "cell_type": "code",
   "execution_count": null,
   "metadata": {},
   "outputs": [],
   "source": [
    "dados.groupby(['atividade_ensino'])['valor_total'].describe(percentiles=[.25, .5, .75, .9])"
   ]
  },
  {
   "cell_type": "code",
   "execution_count": null,
   "metadata": {},
   "outputs": [],
   "source": [
    "dados.groupby(['atividade_ensino'])['valor_total'].describe(percentiles=[.25, .5, .75, .9])"
   ]
  },
  {
   "cell_type": "code",
   "execution_count": null,
   "metadata": {},
   "outputs": [],
   "source": [
    "fig, ax = plt.subplots(figsize=a4_dims)\n",
    "sns.boxplot(x='atividade_ensino', y=np.log10(dados.valor_total), data=dados, notch=True)"
   ]
  },
  {
   "cell_type": "code",
   "execution_count": null,
   "metadata": {},
   "outputs": [],
   "source": [
    "fig, ax = plt.subplots(figsize=a4_dims)\n",
    "sns.violinplot(x='atividade_ensino', y=np.log10(dados.valor_total), data=dados, notch=True, inner='box')"
   ]
  },
  {
   "cell_type": "code",
   "execution_count": null,
   "metadata": {},
   "outputs": [],
   "source": [
    "dados.drop(columns='atividade_ensino', inplace=True)"
   ]
  },
  {
   "cell_type": "markdown",
   "metadata": {},
   "source": [
    "#### valor_total vs porte_hospitalar"
   ]
  },
  {
   "cell_type": "code",
   "execution_count": null,
   "metadata": {},
   "outputs": [],
   "source": [
    "dados.groupby(['porte_hospitalar'])['valor_total'].describe(percentiles=[.25, .5, .75, .9])"
   ]
  },
  {
   "cell_type": "code",
   "execution_count": null,
   "metadata": {},
   "outputs": [],
   "source": [
    "dados.groupby(['porte_hospitalar'])['valor_total'].describe(percentiles=[.25, .5, .75, .9])"
   ]
  },
  {
   "cell_type": "code",
   "execution_count": null,
   "metadata": {},
   "outputs": [],
   "source": [
    "fig, ax = plt.subplots(figsize=a4_dims)\n",
    "sns.boxplot(x='porte_hospitalar', y=np.log10(dados.valor_total), data=dados, notch=True)"
   ]
  },
  {
   "cell_type": "code",
   "execution_count": null,
   "metadata": {},
   "outputs": [],
   "source": [
    "fig, ax = plt.subplots(figsize=a4_dims)\n",
    "sns.violinplot(x='porte_hospitalar', y=np.log10(dados.valor_total), data=dados, notch=True, inner='box')"
   ]
  },
  {
   "cell_type": "code",
   "execution_count": null,
   "metadata": {},
   "outputs": [],
   "source": [
    "# # vou manter, sem distinção.\n",
    "# dados['porte_hospitalar_pequeno'] = dados['porte_hospitalar'].apply(lambda x: 1 if x=='PEQUENO' else 0).astype('category')\n",
    "# dados.drop(columns='porte_hospitalar', inplace=True)"
   ]
  },
  {
   "cell_type": "markdown",
   "metadata": {},
   "source": [
    "#### valor_total vs municipio_extrema_probreza"
   ]
  },
  {
   "cell_type": "code",
   "execution_count": null,
   "metadata": {},
   "outputs": [],
   "source": [
    "dados.groupby(['municipio_extrema_probreza'])['valor_total'].describe(percentiles=[.25, .5, .75, .9])"
   ]
  },
  {
   "cell_type": "code",
   "execution_count": null,
   "metadata": {},
   "outputs": [],
   "source": [
    "dados.groupby(['municipio_extrema_probreza'])['valor_total'].describe(percentiles=[.25, .5, .75, .9])"
   ]
  },
  {
   "cell_type": "code",
   "execution_count": null,
   "metadata": {},
   "outputs": [],
   "source": [
    "fig, ax = plt.subplots(figsize=a4_dims)\n",
    "sns.boxplot(x='municipio_extrema_probreza', y=np.log10(dados.valor_total), data=dados, notch=True)"
   ]
  },
  {
   "cell_type": "code",
   "execution_count": null,
   "metadata": {},
   "outputs": [],
   "source": [
    "fig, ax = plt.subplots(figsize=a4_dims)\n",
    "sns.violinplot(x='municipio_extrema_probreza', y=np.log10(dados.valor_total), data=dados, notch=True, inner='box')"
   ]
  },
  {
   "cell_type": "code",
   "execution_count": null,
   "metadata": {},
   "outputs": [],
   "source": [
    "dados.drop(columns=['municipio_extrema_probreza'], inplace=True)"
   ]
  },
  {
   "cell_type": "markdown",
   "metadata": {},
   "source": [
    "#### valor_total vs qtd_municipios_regiao_saude"
   ]
  },
  {
   "cell_type": "code",
   "execution_count": null,
   "metadata": {},
   "outputs": [],
   "source": [
    "dados.groupby(['qtd_municipios_regiao_saude'])['valor_total'].describe(percentiles=[.25, .5, .75, .9])"
   ]
  },
  {
   "cell_type": "code",
   "execution_count": null,
   "metadata": {},
   "outputs": [],
   "source": [
    "fig, ax = plt.subplots(figsize=a4_dims)\n",
    "sns.boxplot(x='qtd_municipios_regiao_saude', y=np.log10(dados.valor_total), data=dados, notch=True)"
   ]
  },
  {
   "cell_type": "code",
   "execution_count": null,
   "metadata": {},
   "outputs": [],
   "source": [
    "fig, ax = plt.subplots(figsize=a4_dims)\n",
    "sns.violinplot(x='qtd_municipios_regiao_saude', y=np.log10(dados.valor_total), data=dados, notch=True, inner='box')"
   ]
  },
  {
   "cell_type": "code",
   "execution_count": null,
   "metadata": {},
   "outputs": [],
   "source": [
    "dados.drop(columns='qtd_municipios_regiao_saude', inplace=True)"
   ]
  },
  {
   "cell_type": "markdown",
   "metadata": {},
   "source": [
    "#### valor_total vs classe_populacao"
   ]
  },
  {
   "cell_type": "code",
   "execution_count": null,
   "metadata": {},
   "outputs": [],
   "source": [
    "dados.groupby(['classe_populacao'])['valor_total'].describe(percentiles=[.25, .5, .75, .9])"
   ]
  },
  {
   "cell_type": "code",
   "execution_count": null,
   "metadata": {},
   "outputs": [],
   "source": [
    "fig, ax = plt.subplots(figsize=a4_dims)\n",
    "plt.xticks(rotation=45)\n",
    "sns.boxplot(x='classe_populacao', y=np.log10(dados.valor_total), data=dados, notch=True)"
   ]
  },
  {
   "cell_type": "code",
   "execution_count": null,
   "metadata": {},
   "outputs": [],
   "source": [
    "fig, ax = plt.subplots(figsize=a4_dims)\n",
    "plt.xticks(rotation=45)\n",
    "sns.violinplot(x='classe_populacao', y=np.log10(dados.valor_total), data=dados, notch=True, inner='box')"
   ]
  },
  {
   "cell_type": "code",
   "execution_count": null,
   "metadata": {},
   "outputs": [],
   "source": [
    "dados.drop(columns=['classe_populacao'],inplace=True)"
   ]
  },
  {
   "cell_type": "markdown",
   "metadata": {},
   "source": [
    "#### valor_total vs capitulo_CID"
   ]
  },
  {
   "cell_type": "code",
   "execution_count": null,
   "metadata": {},
   "outputs": [],
   "source": [
    "dados.groupby(['capitulo_CID'])['valor_total'].describe(percentiles=[.25, .5, .75, .9])"
   ]
  },
  {
   "cell_type": "code",
   "execution_count": null,
   "metadata": {},
   "outputs": [],
   "source": [
    "dados.groupby(['capitulo_CID'])['valor_total'].describe(percentiles=[.25, .5, .75, .9]).sort_values('50%')"
   ]
  },
  {
   "cell_type": "code",
   "execution_count": null,
   "metadata": {},
   "outputs": [],
   "source": [
    "fig, ax = plt.subplots(figsize=a4_dims)\n",
    "plt.xticks(rotation=45)\n",
    "sns.boxplot(x='capitulo_CID', y=np.log10(dados.valor_total), data=dados, notch=True)"
   ]
  },
  {
   "cell_type": "code",
   "execution_count": null,
   "metadata": {},
   "outputs": [],
   "source": [
    "fig, ax = plt.subplots(figsize=a4_dims)\n",
    "plt.xticks(rotation=45)\n",
    "sns.violinplot(x='capitulo_CID', y=np.log10(dados.valor_total), data=dados, notch=True, inner='box')"
   ]
  },
  {
   "cell_type": "code",
   "execution_count": null,
   "metadata": {},
   "outputs": [],
   "source": [
    "# #avaliar fazer uma categorizacao por faixa de valor\n",
    "# #outras sugestões do Eugênio: tirar por simplicidade OU avaliar manter os scores\n",
    "\n",
    "# #buscando os CID cujos valores medianos <500, os quais denominarei 1 (baratos)\n",
    "# cid_valores_medianos_baratos = dados.groupby(['capitulo_CID'])['valor_total'].describe(percentiles=[.25, .5, .75, .9]).sort_values('50%').loc[:,'50%']<500\n",
    "# cid_valores_medianos_baratos = cid_valores_medianos_baratos[cid_valores_medianos_baratos==True].index\n",
    "\n",
    "# #buscando os CID cujos valores medianos > 1000, os quais denominarei 3 (caros)\n",
    "# cid_valores_medianos_caros = dados.groupby(['capitulo_CID'])['valor_total'].describe(percentiles=[.25, .5, .75, .9]).sort_values('50%').loc[:,'50%']>1000\n",
    "# cid_valores_medianos_caros = cid_valores_medianos_caros[cid_valores_medianos_caros==True].index\n",
    "\n",
    "# # valor mediano por CID <500 = 1\n",
    "# # valor mediano por CID > 1000 = 3\n",
    "# # valor mediano >= 500 OU <= 1000 = 2\n",
    "# transforma_cid = lambda cap_cid: 1 if cap_cid in cid_valores_medianos_baratos else\\\n",
    "#                           (3 if cap_cid in cid_valores_medianos_caros else 2)  \n",
    "\n",
    "\n",
    "# dados['CID_valor_mediano'] = dados['capitulo_CID'].map(transforma_cid)\n",
    "dados.drop(columns=['capitulo_CID'], inplace=True)"
   ]
  },
  {
   "cell_type": "markdown",
   "metadata": {},
   "source": [
    "#### valor_total vs internacao_com_UTI"
   ]
  },
  {
   "cell_type": "code",
   "execution_count": null,
   "metadata": {},
   "outputs": [],
   "source": [
    "dados.groupby(['internacao_com_UTI'])['valor_total'].describe(percentiles=[.25, .5, .75, .9])"
   ]
  },
  {
   "cell_type": "code",
   "execution_count": null,
   "metadata": {},
   "outputs": [],
   "source": [
    "fig, ax = plt.subplots(figsize=a4_dims)\n",
    "sns.boxplot(x='internacao_com_UTI', y=np.log10(dados.valor_total), data=dados, notch=True)"
   ]
  },
  {
   "cell_type": "code",
   "execution_count": null,
   "metadata": {},
   "outputs": [],
   "source": [
    "fig, ax = plt.subplots(figsize=a4_dims)\n",
    "sns.violinplot(x='internacao_com_UTI', y=np.log10(dados.valor_total), data=dados, notch=True, inner='box')"
   ]
  },
  {
   "cell_type": "code",
   "execution_count": null,
   "metadata": {},
   "outputs": [],
   "source": [
    "#manter"
   ]
  },
  {
   "cell_type": "markdown",
   "metadata": {},
   "source": [
    "#### valor_total vs reside_local_atendimento"
   ]
  },
  {
   "cell_type": "code",
   "execution_count": null,
   "metadata": {},
   "outputs": [],
   "source": [
    "dados.groupby(['reside_local_atendimento'])['valor_total'].describe(percentiles=[.25, .5, .75, .9])"
   ]
  },
  {
   "cell_type": "code",
   "execution_count": null,
   "metadata": {},
   "outputs": [],
   "source": [
    "fig, ax = plt.subplots(figsize=a4_dims)\n",
    "plt.xticks(rotation=45)\n",
    "sns.boxplot(x='reside_local_atendimento', y=np.log10(dados.valor_total), data=dados, notch=True)"
   ]
  },
  {
   "cell_type": "code",
   "execution_count": null,
   "metadata": {},
   "outputs": [],
   "source": [
    "fig, ax = plt.subplots(figsize=a4_dims)\n",
    "plt.xticks(rotation=45)\n",
    "sns.violinplot(x='reside_local_atendimento', y=np.log10(dados.valor_total), data=dados, notch=True, inner='box')"
   ]
  },
  {
   "cell_type": "code",
   "execution_count": null,
   "metadata": {},
   "outputs": [],
   "source": [
    "#dropar\n",
    "#dúvida: não vejo tanta diferença nas distribuições. caso clássico que devemos dropar!\n",
    "dados.drop(columns=['reside_local_atendimento'], inplace=True)"
   ]
  },
  {
   "cell_type": "markdown",
   "metadata": {},
   "source": [
    "#### valor_total vs procedimento_realizado"
   ]
  },
  {
   "cell_type": "code",
   "execution_count": null,
   "metadata": {},
   "outputs": [],
   "source": [
    "dados.groupby(['procedimento_realizado'])['valor_total'].describe().sort_values('50%')"
   ]
  },
  {
   "cell_type": "code",
   "execution_count": null,
   "metadata": {},
   "outputs": [],
   "source": [
    "# #dúvida: como mostrar para o algoritmo tamanha heterogeneidade das classes dos procedimentos?\n",
    "\n",
    "# dados['procedimento_realizado_peso'] = get_pesos_por_classe(dataset=dados,\n",
    "#                                                   label_feature_categorica='procedimento_realizado',\n",
    "#                                                   label_feature_numerica='valor_total')"
   ]
  },
  {
   "cell_type": "markdown",
   "metadata": {},
   "source": [
    "#### valor_total vs idade"
   ]
  },
  {
   "cell_type": "code",
   "execution_count": null,
   "metadata": {},
   "outputs": [],
   "source": [
    "fig, ax = plt.subplots(figsize=a4_dims)\n",
    "sns.scatterplot(data=dados, x='idade', y=np.log10(dados.valor_total))"
   ]
  },
  {
   "cell_type": "code",
   "execution_count": null,
   "metadata": {},
   "outputs": [],
   "source": [
    "dados['idade_categorizada'] = pd.cut(x=dados['idade'], bins=[0,19,24,28,34,39,44,49,54,59,101], \n",
    "                                     right=False, labels=None, retbins=False, precision=3, \n",
    "                                     include_lowest=True, duplicates='raise', ordered=True)"
   ]
  },
  {
   "cell_type": "code",
   "execution_count": null,
   "metadata": {},
   "outputs": [],
   "source": [
    "dados.groupby(['idade_categorizada'])['valor_total'].describe(percentiles=[.25, .5, .75, .9])"
   ]
  },
  {
   "cell_type": "code",
   "execution_count": null,
   "metadata": {},
   "outputs": [],
   "source": [
    "#colocar por ordem olhando para  os bins de idade.\n",
    "dados.groupby(['idade_categorizada'])['valor_total'].describe(percentiles=[.25, .5, .75, .9])"
   ]
  },
  {
   "cell_type": "code",
   "execution_count": null,
   "metadata": {},
   "outputs": [],
   "source": [
    "fig, ax = plt.subplots(figsize=a4_dims)\n",
    "plt.xticks(rotation=45)\n",
    "sns.violinplot(x='idade_categorizada', y=np.log10(dados.valor_total), data=dados, notch=True, inner='box')"
   ]
  },
  {
   "cell_type": "code",
   "execution_count": null,
   "metadata": {},
   "outputs": [],
   "source": [
    "# por simplificação, irei alterar a feature para uma flag idade_maior_44, pois não vejo grandes diferenças entre os grupos,\n",
    "# mas a partir do grupos acima de 44 anos, temos o percentil 75 com valor maior que 1000.\n",
    "dados['idade_maior_44'] = dados['idade'].map(lambda x: 1 if x>=44 else 0)\n",
    "dados.drop(columns=['idade', 'idade_categorizada'], inplace=True)"
   ]
  },
  {
   "cell_type": "code",
   "execution_count": null,
   "metadata": {},
   "outputs": [],
   "source": [
    "sample = dados.sample(dados.shape[0])\n",
    "profile = ProfileReport(sample)\n",
    "profile.set_variable('correlations',\n",
    "                      {'pearson.threshold':0.8,\n",
    "                       'spearman.threshold':0.8,\n",
    "                       'kendall.threshold':0.8,\n",
    "                       'phi_k.threshold':0.8,\n",
    "                       'cramers.threshold':0.8\n",
    "                      })\n",
    "profile.to_widgets()\n",
    "#profile.to_file(\"Exploratorio.html\")"
   ]
  },
  {
   "cell_type": "code",
   "execution_count": null,
   "metadata": {},
   "outputs": [],
   "source": [
    "#Salva o Dataframe com os dados transformados na exploratória no disco. Caso já esteja salvo, apaga-o antes.\n",
    "if os.path.exists(os.path.join(base_data_path,joblibs_folder_name,joblib_file_name_pos_exploratorio)):\n",
    "    os.remove(os.path.join(base_data_path,joblibs_folder_name,joblib_file_name_pos_exploratorio))\n",
    "dump(dados, os.path.join(base_data_path,joblibs_folder_name,joblib_file_name_pos_exploratorio))"
   ]
  }
 ],
 "metadata": {
  "kernelspec": {
   "display_name": "Python 3",
   "language": "python",
   "name": "python3"
  },
  "language_info": {
   "codemirror_mode": {
    "name": "ipython",
    "version": 3
   },
   "file_extension": ".py",
   "mimetype": "text/x-python",
   "name": "python",
   "nbconvert_exporter": "python",
   "pygments_lexer": "ipython3",
   "version": "3.8.3"
  },
  "notify_time": "10"
 },
 "nbformat": 4,
 "nbformat_minor": 4
}
